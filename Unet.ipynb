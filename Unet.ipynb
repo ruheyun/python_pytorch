{
  "cells": [
    {
      "cell_type": "markdown",
      "metadata": {
        "id": "view-in-github",
        "colab_type": "text"
      },
      "source": [
        "<a href=\"https://colab.research.google.com/github/ruheyun/python_pytorch/blob/main/Unet.ipynb\" target=\"_parent\"><img src=\"https://colab.research.google.com/assets/colab-badge.svg\" alt=\"Open In Colab\"/></a>"
      ]
    },
    {
      "cell_type": "code",
      "execution_count": 1,
      "id": "initial_id",
      "metadata": {
        "collapsed": true,
        "ExecuteTime": {
          "end_time": "2025-04-02T12:12:34.482745Z",
          "start_time": "2025-04-02T12:12:34.476230Z"
        },
        "id": "initial_id"
      },
      "outputs": [],
      "source": [
        "import torch\n",
        "import torch.nn as nn\n",
        "import torchvision.transforms as transforms"
      ]
    },
    {
      "cell_type": "code",
      "outputs": [],
      "source": [
        "def crop(image, size):\n",
        "    transform = transforms.CenterCrop(size)\n",
        "    return transform(image)"
      ],
      "metadata": {
        "ExecuteTime": {
          "end_time": "2025-04-02T12:12:35.528918Z",
          "start_time": "2025-04-02T12:12:35.522662Z"
        },
        "id": "8c3aa16aeafd5659"
      },
      "id": "8c3aa16aeafd5659",
      "execution_count": 2
    },
    {
      "cell_type": "code",
      "outputs": [],
      "source": [
        "class Unet(nn.Module):\n",
        "    def __init__(self):\n",
        "        super(Unet, self).__init__()\n",
        "        self.block1 = nn.Sequential(\n",
        "            nn.Conv2d(1, 64, kernel_size=3, stride=1, padding=0),\n",
        "            nn.ReLU(),\n",
        "            nn.Conv2d(64, 64, kernel_size=3, stride=1, padding=0),\n",
        "            nn.ReLU()\n",
        "        )\n",
        "        self.pool1 = nn.MaxPool2d(kernel_size=2, stride=2)\n",
        "\n",
        "        self.block2 = nn.Sequential(\n",
        "            nn.Conv2d(64, 128, 3, 1, 0),\n",
        "            nn.ReLU(),\n",
        "            nn.Conv2d(128, 128, 3, 1, 0),\n",
        "            nn.ReLU()\n",
        "        )\n",
        "        self.pool2 = nn.MaxPool2d(2, 2)\n",
        "\n",
        "        self.block3 = nn.Sequential(\n",
        "            nn.Conv2d(128, 256, 3, 1, 0),\n",
        "            nn.ReLU(),\n",
        "            nn.Conv2d(256, 256, 3, 1, 0),\n",
        "            nn.ReLU()\n",
        "        )\n",
        "        self.pool3 = nn.MaxPool2d(2, 2)\n",
        "\n",
        "        self.block4 = nn.Sequential(\n",
        "            nn.Conv2d(256, 512, 3, 1, 0),\n",
        "            nn.ReLU(),\n",
        "            nn.Conv2d(512, 512, 3, 1, 0),\n",
        "            nn.ReLU()\n",
        "        )\n",
        "        self.pool4 = nn.MaxPool2d(2, 2)\n",
        "\n",
        "        self.block5 = nn.Sequential(\n",
        "            nn.Conv2d(512, 1024, 3, 1, 0),\n",
        "            nn.ReLU(),\n",
        "            nn.Conv2d(1024, 1024, 3, 1, 0),\n",
        "            nn.ReLU()\n",
        "        )\n",
        "        self.upconv1 = nn.ConvTranspose2d(1024, 512, 2, 2, 0)\n",
        "\n",
        "        self.block6 = nn.Sequential(\n",
        "            nn.Conv2d(1024, 512, 3, 1, 0),\n",
        "            nn.ReLU(),\n",
        "            nn.Conv2d(512, 512, 3, 1, 0),\n",
        "            nn.ReLU()\n",
        "        )\n",
        "        self.upconv2 = nn.ConvTranspose2d(512, 256, 2, 2, 0)\n",
        "\n",
        "        self.block7 = nn.Sequential(\n",
        "            nn.Conv2d(512, 256, 3, 1, 0),\n",
        "            nn.ReLU(),\n",
        "            nn.Conv2d(256, 256, 3, 1, 0),\n",
        "            nn.ReLU()\n",
        "        )\n",
        "        self.upconv3 = nn.ConvTranspose2d(256, 128, 2, 2, 0)\n",
        "\n",
        "        self.block8 = nn.Sequential(\n",
        "            nn.Conv2d(256, 128, 3, 1, 0),\n",
        "            nn.ReLU(),\n",
        "            nn.Conv2d(128, 128, 3, 1, 0),\n",
        "            nn.ReLU()\n",
        "        )\n",
        "        self.upconv4 = nn.ConvTranspose2d(128, 64, 2, 2, 0)\n",
        "\n",
        "        self.block9 = nn.Sequential(\n",
        "            nn.Conv2d(128, 64, 3, 1, 0),\n",
        "            nn.ReLU(),\n",
        "            nn.Conv2d(64, 64, 3, 1, 0),\n",
        "            nn.ReLU(),\n",
        "            nn.Conv2d(64, 2, 1, 1, 0)\n",
        "        )\n",
        "\n",
        "    def forward(self, x):\n",
        "        x1 = self.block1(x)\n",
        "        down1 = self.pool1(x1)\n",
        "\n",
        "        x2 = self.block2(down1)\n",
        "        down2 = self.pool2(x2)\n",
        "\n",
        "        x3 = self.block3(down2)\n",
        "        down3 = self.pool3(x3)\n",
        "\n",
        "        x4 = self.block4(down3)\n",
        "        down4 = self.pool4(x4)\n",
        "\n",
        "        x5 = self.block5(down4)\n",
        "        up1 = self.upconv1(x5)\n",
        "        x4_crop = crop(x4, up1.size(-1))\n",
        "        up_1 = torch.cat([x4_crop, up1], dim=1)\n",
        "\n",
        "        x6 = self.block6(up_1)\n",
        "        up2 = self.upconv2(x6)\n",
        "        x3_crop = crop(x3, up2.size(-1))\n",
        "        up_2 = torch.cat([x3_crop, up2], dim=1)\n",
        "\n",
        "        x7 = self.block7(up_2)\n",
        "        up3 = self.upconv3(x7)\n",
        "        x2_crop = crop(x2, up3.size(-1))\n",
        "        up_3 = torch.cat([x2_crop, up3], dim=1)\n",
        "\n",
        "        x8 = self.block8(up_3)\n",
        "        up4 = self.upconv4(x8)\n",
        "        x1_crop = crop(x1, up4.size(-1))\n",
        "        up_4 = torch.cat([x1_crop, up4], dim=1)\n",
        "\n",
        "        x9 = self.block9(up_4)\n",
        "\n",
        "        return x9"
      ],
      "metadata": {
        "ExecuteTime": {
          "end_time": "2025-04-02T12:21:06.779977Z",
          "start_time": "2025-04-02T12:21:06.758230Z"
        },
        "id": "f820e2a9e7129fe5"
      },
      "id": "f820e2a9e7129fe5",
      "execution_count": 3
    },
    {
      "cell_type": "code",
      "outputs": [
        {
          "output_type": "stream",
          "name": "stdout",
          "text": [
            "torch.Size([1, 2, 388, 388])\n"
          ]
        }
      ],
      "source": [
        "device = torch.device('cuda' if torch.cuda.is_available() else 'cpu')\n",
        "input = torch.ones(1, 1, 572, 572).to(device)\n",
        "model = Unet().to(device)\n",
        "out = model(input)\n",
        "print(out.size())"
      ],
      "metadata": {
        "ExecuteTime": {
          "end_time": "2025-04-02T12:21:11.281883Z",
          "start_time": "2025-04-02T12:21:08.671790Z"
        },
        "colab": {
          "base_uri": "https://localhost:8080/"
        },
        "id": "d32a29335573fe2c",
        "outputId": "039cfd0f-5044-4725-ad9b-70b76784ba88"
      },
      "id": "d32a29335573fe2c",
      "execution_count": 4
    }
  ],
  "metadata": {
    "kernelspec": {
      "display_name": "Python 3",
      "name": "python3"
    },
    "language_info": {
      "codemirror_mode": {
        "name": "ipython",
        "version": 2
      },
      "file_extension": ".py",
      "mimetype": "text/x-python",
      "name": "python",
      "nbconvert_exporter": "python",
      "pygments_lexer": "ipython2",
      "version": "2.7.6"
    },
    "colab": {
      "provenance": [],
      "gpuType": "T4",
      "include_colab_link": true
    },
    "accelerator": "GPU"
  },
  "nbformat": 4,
  "nbformat_minor": 5
}