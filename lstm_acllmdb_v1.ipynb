{
  "metadata": {
    "kernelspec": {
      "language": "python",
      "display_name": "Python 3",
      "name": "python3"
    },
    "language_info": {
      "name": "python",
      "version": "3.11.11",
      "mimetype": "text/x-python",
      "codemirror_mode": {
        "name": "ipython",
        "version": 3
      },
      "pygments_lexer": "ipython3",
      "nbconvert_exporter": "python",
      "file_extension": ".py"
    },
    "kaggle": {
      "accelerator": "gpu",
      "dataSources": [
        {
          "sourceId": 11347473,
          "sourceType": "datasetVersion",
          "datasetId": 7100154
        },
        {
          "sourceId": 11347626,
          "sourceType": "datasetVersion",
          "datasetId": 7100235
        }
      ],
      "dockerImageVersionId": 31012,
      "isInternetEnabled": true,
      "language": "python",
      "sourceType": "notebook",
      "isGpuEnabled": true
    },
    "colab": {
      "name": "lstm_acllmdb_v1",
      "provenance": [],
      "include_colab_link": true
    }
  },
  "nbformat_minor": 0,
  "nbformat": 4,
  "cells": [
    {
      "cell_type": "markdown",
      "metadata": {
        "id": "view-in-github",
        "colab_type": "text"
      },
      "source": [
        "<a href=\"https://colab.research.google.com/github/ruheyun/python_pytorch/blob/main/lstm_acllmdb_v1.ipynb\" target=\"_parent\"><img src=\"https://colab.research.google.com/assets/colab-badge.svg\" alt=\"Open In Colab\"/></a>"
      ]
    },
    {
      "source": [
        "# IMPORTANT: SOME KAGGLE DATA SOURCES ARE PRIVATE\n",
        "# RUN THIS CELL IN ORDER TO IMPORT YOUR KAGGLE DATA SOURCES.\n",
        "import kagglehub\n",
        "kagglehub.login()\n"
      ],
      "metadata": {
        "id": "Z2DbOv_NfWzU"
      },
      "cell_type": "code",
      "outputs": [],
      "execution_count": null
    },
    {
      "source": [
        "# IMPORTANT: RUN THIS CELL IN ORDER TO IMPORT YOUR KAGGLE DATA SOURCES,\n",
        "# THEN FEEL FREE TO DELETE THIS CELL.\n",
        "# NOTE: THIS NOTEBOOK ENVIRONMENT DIFFERS FROM KAGGLE'S PYTHON\n",
        "# ENVIRONMENT SO THERE MAY BE MISSING LIBRARIES USED BY YOUR\n",
        "# NOTEBOOK.\n",
        "\n",
        "ruheyun_lstm_acllmdb_path = kagglehub.dataset_download('ruheyun/lstm-acllmdb')\n",
        "ruheyun_glove_6b_100d_path = kagglehub.dataset_download('ruheyun/glove-6b-100d')\n",
        "\n",
        "print('Data source import complete.')\n"
      ],
      "metadata": {
        "id": "l_QYJgUAfWzW"
      },
      "cell_type": "code",
      "outputs": [],
      "execution_count": null
    },
    {
      "cell_type": "code",
      "source": [
        "import torch\n",
        "import torch.nn as nn\n",
        "import torch.optim as optim\n",
        "import os\n",
        "import re\n",
        "import string\n",
        "import time\n",
        "import snowballstemmer\n",
        "from nltk.corpus import stopwords\n",
        "import nltk\n",
        "from itertools import chain\n",
        "from sklearn.metrics import accuracy_score\n",
        "from gensim.test.utils import datapath\n",
        "from gensim.models import KeyedVectors\n",
        "from gensim.scripts.glove2word2vec import glove2word2vec\n",
        "\n",
        "nltk.download('stopwords')"
      ],
      "metadata": {
        "trusted": true,
        "execution": {
          "iopub.status.busy": "2025-04-10T10:30:00.319324Z",
          "iopub.execute_input": "2025-04-10T10:30:00.31964Z",
          "iopub.status.idle": "2025-04-10T10:30:00.327021Z",
          "shell.execute_reply.started": "2025-04-10T10:30:00.319604Z",
          "shell.execute_reply": "2025-04-10T10:30:00.326212Z"
        },
        "id": "c7CKvMSyfWzX",
        "outputId": "37bee3e2-1bad-46eb-a9f5-6a9ced83ad06"
      },
      "outputs": [
        {
          "name": "stderr",
          "text": "[nltk_data] Downloading package stopwords to /usr/share/nltk_data...\n[nltk_data]   Package stopwords is already up-to-date!\n",
          "output_type": "stream"
        },
        {
          "execution_count": 50,
          "output_type": "execute_result",
          "data": {
            "text/plain": "True"
          },
          "metadata": {}
        }
      ],
      "execution_count": null
    },
    {
      "cell_type": "code",
      "source": [
        "def readIMDB(path, seg='train'):\n",
        "    pos_or_neg = ['pos', 'neg']\n",
        "    data = []\n",
        "    for label in pos_or_neg:\n",
        "        files = os.listdir(os.path.join(path, seg, label))\n",
        "        for file in files:\n",
        "            with open(os.path.join(path, seg, label, file), 'r', encoding='utf8') as rf:\n",
        "                # review = rf.read().replace('\\n', '')\n",
        "                review = rf.read()\n",
        "                # review = re.sub(r'(<br\\s*/?>|\\n)', ' ', review)\n",
        "                if label == 'pos':\n",
        "                    data.append([review, 1])\n",
        "                elif label == 'neg':\n",
        "                    data.append([review, 0])\n",
        "    return data"
      ],
      "metadata": {
        "trusted": true,
        "execution": {
          "iopub.status.busy": "2025-04-10T10:30:00.328445Z",
          "iopub.execute_input": "2025-04-10T10:30:00.328964Z",
          "iopub.status.idle": "2025-04-10T10:30:00.344387Z",
          "shell.execute_reply.started": "2025-04-10T10:30:00.328947Z",
          "shell.execute_reply": "2025-04-10T10:30:00.343817Z"
        },
        "id": "2M2Rc_hJfWzY"
      },
      "outputs": [],
      "execution_count": null
    },
    {
      "cell_type": "code",
      "source": [
        "# !pwd"
      ],
      "metadata": {
        "trusted": true,
        "execution": {
          "iopub.status.busy": "2025-04-10T10:30:00.345175Z",
          "iopub.execute_input": "2025-04-10T10:30:00.345414Z",
          "iopub.status.idle": "2025-04-10T10:30:00.35844Z",
          "shell.execute_reply.started": "2025-04-10T10:30:00.345393Z",
          "shell.execute_reply": "2025-04-10T10:30:00.35769Z"
        },
        "id": "tZ5bOibxfWzZ"
      },
      "outputs": [],
      "execution_count": null
    },
    {
      "cell_type": "code",
      "source": [
        "# %cd /kaggle/input/lstm-acllmdb"
      ],
      "metadata": {
        "trusted": true,
        "execution": {
          "iopub.status.busy": "2025-04-10T10:30:00.359174Z",
          "iopub.execute_input": "2025-04-10T10:30:00.359399Z",
          "iopub.status.idle": "2025-04-10T10:30:00.373172Z",
          "shell.execute_reply.started": "2025-04-10T10:30:00.359384Z",
          "shell.execute_reply": "2025-04-10T10:30:00.372632Z"
        },
        "id": "CP3xwUkMfWza"
      },
      "outputs": [],
      "execution_count": null
    },
    {
      "cell_type": "code",
      "source": [
        "# !ls"
      ],
      "metadata": {
        "trusted": true,
        "execution": {
          "iopub.status.busy": "2025-04-10T10:30:00.374539Z",
          "iopub.execute_input": "2025-04-10T10:30:00.374759Z",
          "iopub.status.idle": "2025-04-10T10:30:00.386826Z",
          "shell.execute_reply.started": "2025-04-10T10:30:00.374738Z",
          "shell.execute_reply": "2025-04-10T10:30:00.3862Z"
        },
        "id": "0TCNwAiafWza"
      },
      "outputs": [],
      "execution_count": null
    },
    {
      "cell_type": "code",
      "source": [
        "# %cd /kaggle/working"
      ],
      "metadata": {
        "trusted": true,
        "execution": {
          "iopub.status.busy": "2025-04-10T10:30:00.387374Z",
          "iopub.execute_input": "2025-04-10T10:30:00.387527Z",
          "iopub.status.idle": "2025-04-10T10:30:00.400853Z",
          "shell.execute_reply.started": "2025-04-10T10:30:00.387515Z",
          "shell.execute_reply": "2025-04-10T10:30:00.400174Z"
        },
        "id": "ozOPEL1mfWza"
      },
      "outputs": [],
      "execution_count": null
    },
    {
      "cell_type": "code",
      "source": [
        "root = '/kaggle/input/lstm-acllmdb/aclImdb'\n",
        "train_data = readIMDB(root)\n",
        "test_data = readIMDB(root, 'test')"
      ],
      "metadata": {
        "trusted": true,
        "execution": {
          "iopub.status.busy": "2025-04-10T10:30:00.401538Z",
          "iopub.execute_input": "2025-04-10T10:30:00.401804Z",
          "iopub.status.idle": "2025-04-10T10:31:38.388143Z",
          "shell.execute_reply.started": "2025-04-10T10:30:00.401771Z",
          "shell.execute_reply": "2025-04-10T10:31:38.387321Z"
        },
        "id": "HrzPhghufWzb"
      },
      "outputs": [],
      "execution_count": null
    },
    {
      "cell_type": "code",
      "source": [
        "train_data[0]"
      ],
      "metadata": {
        "trusted": true,
        "execution": {
          "iopub.status.busy": "2025-04-10T10:31:38.390392Z",
          "iopub.execute_input": "2025-04-10T10:31:38.390624Z",
          "iopub.status.idle": "2025-04-10T10:31:38.395428Z",
          "shell.execute_reply.started": "2025-04-10T10:31:38.390606Z",
          "shell.execute_reply": "2025-04-10T10:31:38.394656Z"
        },
        "id": "8nqqnKy9fWzb",
        "outputId": "601aaf31-ba63-4582-e1f5-79075d651bf7"
      },
      "outputs": [
        {
          "execution_count": 57,
          "output_type": "execute_result",
          "data": {
            "text/plain": "[\"This was one of those wonderful rare moments in T.V. that I wished I'd captured forever on VHS. Won't it ever air again? <br /><br />It was so creative and I remember it was aired once a week and the wait for the next episode was excruciating. I want to see it all again. I want to buy it. I want what I can't have. Not even on EBAY. <br /><br />So, having ranted enough it was, by far, one of the best series the 80's put out. It should be considered a classic but is lost in space. At least this website and Wikipedia mention it. Sob.<br /><br />It was utterly appealing, funny, flirtatious, and original. Maybe not like Sherlock Holmes original, I actually think Quintin is far more attractive and has a better chance with his leading lady than the stiff and chalky Holmes ever could.\",\n 1]"
          },
          "metadata": {}
        }
      ],
      "execution_count": null
    },
    {
      "cell_type": "code",
      "source": [
        "def clean_text(text):\n",
        "    # Convert words to lower case\n",
        "    text = text.lower()\n",
        "\n",
        "    # Clean the text\n",
        "    text = re.sub(r\"[^A-Za-z0-9^,!.\\/'+-=]\", \" \", text)\n",
        "    text = re.sub(r\"what's\", \"what is \", text)\n",
        "    text = re.sub(r\"\\'s\", \" \", text)\n",
        "    text = re.sub(r\"\\'ve\", \" have \", text)\n",
        "    text = re.sub(r\"n't\", \" not \", text)\n",
        "    text = re.sub(r\"i'm\", \"i am \", text)\n",
        "    text = re.sub(r\"\\'re\", \" are \", text)\n",
        "    text = re.sub(r\"\\'d\", \" would \", text)\n",
        "    text = re.sub(r\"\\'ll\", \" will \", text)\n",
        "    text = re.sub(r\",\", \" \", text)\n",
        "    text = re.sub(r\"\\.\", \" \", text)\n",
        "    text = re.sub(r\"!\", \" ! \", text)\n",
        "    text = re.sub(r\"\\/\", \" \", text)\n",
        "    text = re.sub(r\"\\^\", \" ^ \", text)\n",
        "    text = re.sub(r\"\\+\", \" + \", text)\n",
        "    text = re.sub(r\"\\-\", \" - \", text)\n",
        "    text = re.sub(r\"\\=\", \" = \", text)\n",
        "    text = re.sub(r\"'\", \" \", text)\n",
        "    # text = re.sub(r\"(\\d+)(k)\", r\"\\g<1>000\", text)\n",
        "    text = re.sub(r\"(\\d+\\.?\\d*)\\s*[kK]\", lambda m: str(int(float(m.group(1)) * 1000), text)\n",
        "    text = re.sub(r\":\", \" : \", text)\n",
        "    text = re.sub(r\" e g \", \" eg \", text)\n",
        "    text = re.sub(r\" b g \", \" bg \", text)\n",
        "    text = re.sub(r\" u s \", \" american \", text)\n",
        "    text = re.sub(r\"\\0s\", \"0\", text)\n",
        "    text = re.sub(r\" 9 11 \", \"911\", text)\n",
        "    text = re.sub(r\"e - mail\", \"email\", text)\n",
        "    text = re.sub(r\"j k\", \"jk\", text)\n",
        "    text = re.sub(r\"\\s{2,}\", \" \", text)\n",
        "\n",
        "    ## Remove puncuation\n",
        "    # text = text.translate(string.punctuation)\n",
        "    # 创建一个翻译表，将每个标点符号映射为 None（即删除）\n",
        "    translator = str.maketrans('', '', string.punctuation)\n",
        "    text = text.translate(translator)\n",
        "\n",
        "    text = text.split()\n",
        "\n",
        "    # Remove stop words\n",
        "    stops = set(stopwords.words(\"english\"))\n",
        "    text = [w for w in text if w not in stops and len(w) >= 3]\n",
        "\n",
        "    # text = \" \".join(text)\n",
        "\n",
        "    ## Stemming\n",
        "    stemmer = snowballstemmer.stemmer('english')\n",
        "    stemmed_words = [stemmer.stemWord(word) for word in text]\n",
        "    # text = \" \".join(stemmed_words)\n",
        "    # print(text)\n",
        "    return text"
      ],
      "metadata": {
        "trusted": true,
        "execution": {
          "iopub.status.busy": "2025-04-10T10:31:38.396229Z",
          "iopub.execute_input": "2025-04-10T10:31:38.396477Z",
          "iopub.status.idle": "2025-04-10T10:31:38.412415Z",
          "shell.execute_reply.started": "2025-04-10T10:31:38.396456Z",
          "shell.execute_reply": "2025-04-10T10:31:38.411717Z"
        },
        "id": "1uwY58SMfWzb"
      },
      "outputs": [],
      "execution_count": null
    },
    {
      "cell_type": "code",
      "source": [
        "# def tokenizer(text):\n",
        "#     return [tok.lower() for tok in text.split()]"
      ],
      "metadata": {
        "trusted": true,
        "execution": {
          "iopub.status.busy": "2025-04-10T10:31:38.41323Z",
          "iopub.execute_input": "2025-04-10T10:31:38.41346Z",
          "iopub.status.idle": "2025-04-10T10:31:38.430041Z",
          "shell.execute_reply.started": "2025-04-10T10:31:38.413441Z",
          "shell.execute_reply": "2025-04-10T10:31:38.429373Z"
        },
        "id": "qqAEzeY_fWzc"
      },
      "outputs": [],
      "execution_count": null
    },
    {
      "cell_type": "code",
      "source": [
        "train_tokenized = []\n",
        "test_tokenized = []\n",
        "for review, score in train_data:\n",
        "    # train_tokenized.append(tokenizer(review))\n",
        "    train_tokenized.append(clean_text(review))\n",
        "for review, score in test_data:\n",
        "    test_tokenized.append(clean_text(review))"
      ],
      "metadata": {
        "trusted": true,
        "execution": {
          "iopub.status.busy": "2025-04-10T10:31:38.432405Z",
          "iopub.execute_input": "2025-04-10T10:31:38.432608Z",
          "iopub.status.idle": "2025-04-10T10:35:17.771404Z",
          "shell.execute_reply.started": "2025-04-10T10:31:38.432593Z",
          "shell.execute_reply": "2025-04-10T10:35:17.770886Z"
        },
        "id": "kfqXCgX8fWzc"
      },
      "outputs": [],
      "execution_count": null
    },
    {
      "cell_type": "code",
      "source": [
        "print(train_tokenized[20])\n",
        "print(len(train_tokenized[20]))"
      ],
      "metadata": {
        "trusted": true,
        "execution": {
          "iopub.status.busy": "2025-04-10T10:35:17.772135Z",
          "iopub.execute_input": "2025-04-10T10:35:17.772388Z",
          "iopub.status.idle": "2025-04-10T10:35:17.776783Z",
          "shell.execute_reply.started": "2025-04-10T10:35:17.772365Z",
          "shell.execute_reply": "2025-04-10T10:35:17.776045Z"
        },
        "id": "x4uan9g7fWzc",
        "outputId": "3651bf28-cd38-49eb-b551-b969cdd186dc"
      },
      "outputs": [
        {
          "name": "stdout",
          "text": "['second', 'two', 'filmed', 'hamlets', 'nineties', 'first', 'franco', 'zeffirelli', 'starring', 'mel', 'gibson', '1990', 'zeffirelli', 'version', 'like', 'laurence', 'olivier', '1948', 'based', 'upon', 'abridged', 'version', 'play', 'much', 'shakespeare', 'original', 'text', 'cut', 'never', 'seen', 'tony', 'richardson', '1969', 'version', 'ran', 'less', 'two', 'hours', 'shorter', 'even', 'zeffirelli', 'presume', 'also', 'abridged', 'kenneth', 'branagh', 'attempting', 'something', 'much', 'ambitious', 'film', 'based', 'complete', 'text', 'play', 'running', 'time', 'around', 'four', 'hours', 'henry', 'branagh', 'claimed', 'olivier', 'crown', 'cinema', 'leading', 'shakespearean', 'confirming', 'claim', 'brilliant', 'much', 'ado', 'nothing', 'rare', 'example', 'great', 'film', 'based', 'shakespeare', 'comedy', 'hamlet', 'third', 'shakespeare', 'film', 'director', 'also', 'acted', 'iago', 'oliver', 'parker', '1995', 'othello', 'one', 'might', 'expect', 'different', 'much', 'ado', 'earlier', 'film', 'shot', 'villa', 'hills', 'tuscany', 'beautiful', 'surrounding', 'countryside', 'joyous', 'summertime', 'film', 'everything', 'makes', 'life', 'worth', 'living', 'hamlet', 'contrast', 'set', 'depths', 'winter', 'flowers', 'description', 'ophelia', 'death', 'suggest', 'shakespeare', 'thought', 'action', 'happening', 'summer', 'look', 'film', 'particularly', 'striking', 'sumptuous', 'chilly', 'filmed', 'blenheim', 'palace', 'possibly', 'england', 'grandiose', 'stately', 'home', 'also', 'rather', 'forbidding', 'one', 'snowy', 'exterior', 'scenes', 'cold', 'wintry', 'interior', 'ones', 'formal', 'elaborate', 'action', 'updated', 'mid', 'nineteenth', 'century', 'female', 'characters', 'wear', 'elaborate', 'fashions', 'era', 'principal', 'male', 'ones', 'mostly', 'wear', 'splendid', 'military', 'uniforms', 'contrast', 'zeffirelli', 'film', 'interiors', 'costumes', 'deliberately', 'subdued', 'tone', 'play', 'dominated', 'images', 'corruption', 'decay', 'branagh', 'intention', 'may', 'contrast', 'splendid', 'surface', 'underlying', 'something', 'rotten', 'state', 'denmark', 'film', 'notable', 'large', 'number', 'big', 'name', 'actors', 'minor', 'roles', 'blink', 'might', 'miss', 'john', 'gieldgud', 'judi', 'dench', 'apparently', 'star', 'cast', 'required', 'production', 'company', 'nervous', 'four', 'hour', 'film', 'imported', 'hollywood', 'stars', 'robin', 'williams', 'osric', 'really', 'come', 'others', 'like', 'charlton', 'heston', 'player', 'king', 'billy', 'crystal', 'first', 'gravedigger', 'played', 'parts', 'well', 'yorick', 'normally', 'seen', 'skull', 'seen', 'flashback', 'played', 'british', 'comedian', 'ken', 'dodd', 'brian', 'blessed', 'often', 'plays', 'jovial', 'characters', 'cast', 'type', 'ghost', 'makes', 'scenes', 'appears', 'genuinely', 'frightening', 'major', 'characters', 'perhaps', 'weakest', 'kate', 'winslet', 'ophelia', 'branagh', 'leading', 'lady', 'first', 'two', 'shakespeare', 'films', 'wife', 'emma', 'thompson', 'marriage', 'ended', 'divorce', '1995', 'however', 'find', 'wishing', 'thompson', 'cast', 'role', 'although', 'winslet', 'came', 'ophelia', 'mad', 'scenes', 'seemed', 'weak', 'earlier', 'ones', 'character', 'still', 'sane', 'preferred', 'helena', 'bonham', 'carter', 'zeffirelli', 'version', 'richard', 'briers', 'plays', 'polonius', 'greater', 'dignity', 'often', 'given', 'wise', 'experienced', 'counsellor', 'rather', 'prating', 'old', 'fool', 'julie', 'christie', 'also', 'brings', 'dignity', 'role', 'gertrude', 'attempt', 'gibson', 'glenn', 'close', 'zeffirelli', 'version', 'suggest', 'incestuous', 'attachment', 'hamlet', 'interpretation', 'owes', 'freud', 'shakespeare', 'age', 'difference', 'christie', 'branagh', 'great', 'enough', 'credible', 'mother', 'son', 'certainly', 'case', 'close', 'gibson', 'olivier', 'gertrude', 'eileen', 'herlie', 'bizarrely', 'thirteen', 'years', 'younger', 'branagh', 'stated', 'intention', 'restoring', 'scenes', 'often', 'cut', 'cinematic', 'versions', 'reinforce', 'idea', 'play', 'national', 'well', 'domestic', 'tragedy', 'much', 'stress', 'placed', 'upon', 'war', 'norway', 'norwegian', 'prince', 'fortinbras', 'subplot', 'ignored', 'altogether', 'zeffirelli', 'emphasis', 'national', 'tragedy', 'perhaps', 'best', 'shown', 'character', 'claudius', 'sometimes', 'played', 'one', 'dimensional', 'villain', 'something', 'derek', 'jacobi', 'performance', 'suggests', 'claudius', 'could', 'good', 'man', 'different', 'circumstances', 'allowed', 'led', 'astray', 'ambition', 'lust', 'could', 'good', 'loyal', 'servant', 'brother', 'chose', 'rule', 'bad', 'king', 'although', 'tormented', 'guilt', 'see', 'way', 'make', 'amends', 'evil', 'done', 'branagh', 'wonderfully', 'fluent', 'speaker', 'shakespeare', 'verse', 'superb', 'main', 'role', 'like', 'gibson', 'little', 'time', 'old', 'concept', 'hamlet', 'indecisive', 'passive', 'melancholy', 'active', 'physical', 'energetic', 'hamlet', 'something', 'best', 'shown', 'fatal', 'duel', 'laertes', 'guiding', 'principle', 'world', 'weary', 'despair', 'active', 'disgust', 'evil', 'corruption', 'gamble', 'branagh', 'make', 'four', 'hour', 'epic', 'film', 'well', 'box', 'office', 'however', 'praised', 'many', 'critics', 'james', 'berardinelli', 'particularly', 'enthusiastic', 'opinion', 'whatever', 'financial', 'returns', 'may', 'branagh', 'gamble', 'paid', 'artistic', 'terms', 'concentrating', 'full', 'text', 'able', 'bring', 'full', 'meaning', 'full', 'emotional', 'power', 'shakespeare', 'complex', 'play', 'reviewed', 'much', 'ado', 'said', 'greatest', 'ever', 'film', 'shakespeare', 'comedy', 'hamlet', 'may', 'greatest', 'ever', 'film', 'shakespeare', 'tragedy']\n547\n",
          "output_type": "stream"
        }
      ],
      "execution_count": null
    },
    {
      "cell_type": "code",
      "source": [
        "vocab = set(chain(*train_tokenized))\n",
        "vocab_size = len(vocab)"
      ],
      "metadata": {
        "trusted": true,
        "execution": {
          "iopub.status.busy": "2025-04-10T10:35:17.777539Z",
          "iopub.execute_input": "2025-04-10T10:35:17.777728Z",
          "iopub.status.idle": "2025-04-10T10:35:17.953591Z",
          "shell.execute_reply.started": "2025-04-10T10:35:17.777692Z",
          "shell.execute_reply": "2025-04-10T10:35:17.952856Z"
        },
        "id": "kIeuk8eWfWzc"
      },
      "outputs": [],
      "execution_count": null
    },
    {
      "cell_type": "code",
      "source": [
        "print(vocab_size)"
      ],
      "metadata": {
        "trusted": true,
        "execution": {
          "iopub.status.busy": "2025-04-10T10:35:17.95465Z",
          "iopub.execute_input": "2025-04-10T10:35:17.954944Z",
          "iopub.status.idle": "2025-04-10T10:35:17.968088Z",
          "shell.execute_reply.started": "2025-04-10T10:35:17.954916Z",
          "shell.execute_reply": "2025-04-10T10:35:17.967375Z"
        },
        "id": "_mvjyLSyfWzc",
        "outputId": "7f8ecca1-d0ca-4a58-ec4c-657d144940dc"
      },
      "outputs": [
        {
          "name": "stdout",
          "text": "74916\n",
          "output_type": "stream"
        }
      ],
      "execution_count": null
    },
    {
      "cell_type": "code",
      "source": [
        "# !mkdir /kaggle/working/glove-6b-100d"
      ],
      "metadata": {
        "trusted": true,
        "execution": {
          "iopub.status.busy": "2025-04-10T10:35:17.968878Z",
          "iopub.execute_input": "2025-04-10T10:35:17.969072Z",
          "iopub.status.idle": "2025-04-10T10:35:17.983372Z",
          "shell.execute_reply.started": "2025-04-10T10:35:17.969051Z",
          "shell.execute_reply": "2025-04-10T10:35:17.98268Z"
        },
        "id": "DrqP64N6fWzd"
      },
      "outputs": [],
      "execution_count": null
    },
    {
      "cell_type": "code",
      "source": [
        "# !rm /kaggle/working/glove-6b-100d/wv.6B.100d.txt"
      ],
      "metadata": {
        "trusted": true,
        "execution": {
          "iopub.status.busy": "2025-04-10T10:35:17.984134Z",
          "iopub.execute_input": "2025-04-10T10:35:17.984473Z",
          "iopub.status.idle": "2025-04-10T10:35:17.996397Z",
          "shell.execute_reply.started": "2025-04-10T10:35:17.984447Z",
          "shell.execute_reply": "2025-04-10T10:35:17.99568Z"
        },
        "id": "5eqAQEKUfWzd"
      },
      "outputs": [],
      "execution_count": null
    },
    {
      "cell_type": "code",
      "source": [
        "# 输入文件路径\n",
        "glove_file = datapath('/kaggle/input/glove-6b-100d/glove.6B.100d.txt')\n",
        "# 输出文件路径\n",
        "# tmp_file = get_tmpfile('/kaggle/working/glove-6b-100d/wv.6B.100d.txt')\n",
        "\n",
        "# call glove2word2vec script\n",
        "# default way (through CLI): python -m gensim.scripts.glove2word2vec --input <glove_file> --output <w2v_file>\n",
        "\n",
        "# 开始转换\n",
        "# glove2word2vec(glove_file, tmp_file)\n",
        "\n",
        "# 加载转化后的文件\n",
        "# wvmodel = KeyedVectors.load_word2vec_format(tmp_file)\n",
        "wvmodel = KeyedVectors.load_word2vec_format(glove_file, binary=False, no_header=True)"
      ],
      "metadata": {
        "trusted": true,
        "execution": {
          "iopub.status.busy": "2025-04-10T10:35:17.997209Z",
          "iopub.execute_input": "2025-04-10T10:35:17.997811Z",
          "iopub.status.idle": "2025-04-10T10:35:40.461447Z",
          "shell.execute_reply.started": "2025-04-10T10:35:17.997777Z",
          "shell.execute_reply": "2025-04-10T10:35:40.460678Z"
        },
        "id": "d242uVeDfWzd"
      },
      "outputs": [],
      "execution_count": null
    },
    {
      "cell_type": "code",
      "source": [
        "# print(wvmodel['computer'])  # 输出单词 'computer' 的词向量\n",
        "# print(wvmodel.most_similar('computer'))  # 找最相似词"
      ],
      "metadata": {
        "trusted": true,
        "execution": {
          "iopub.status.busy": "2025-04-10T10:35:40.462159Z",
          "iopub.execute_input": "2025-04-10T10:35:40.462338Z",
          "iopub.status.idle": "2025-04-10T10:35:40.466049Z",
          "shell.execute_reply.started": "2025-04-10T10:35:40.462324Z",
          "shell.execute_reply": "2025-04-10T10:35:40.465275Z"
        },
        "id": "5gIFh3tOfWzd"
      },
      "outputs": [],
      "execution_count": null
    },
    {
      "cell_type": "code",
      "source": [
        "word_to_idx = {word: i+1 for i, word in enumerate(vocab)}\n",
        "word_to_idx['<unk>'] = 0\n",
        "idx_to_word = {i+1: word for i, word in enumerate(vocab)}\n",
        "idx_to_word[0] = '<unk>'"
      ],
      "metadata": {
        "trusted": true,
        "execution": {
          "iopub.status.busy": "2025-04-10T10:35:40.46689Z",
          "iopub.execute_input": "2025-04-10T10:35:40.46739Z",
          "iopub.status.idle": "2025-04-10T10:35:40.5339Z",
          "shell.execute_reply.started": "2025-04-10T10:35:40.467365Z",
          "shell.execute_reply": "2025-04-10T10:35:40.533393Z"
        },
        "id": "kFSCp9AzfWzd"
      },
      "outputs": [],
      "execution_count": null
    },
    {
      "cell_type": "code",
      "source": [
        "def encode_samples(tokenized_samples, vocab):\n",
        "    features = []\n",
        "    for sample in tokenized_samples:\n",
        "        feature = []\n",
        "        for token in sample:\n",
        "            if token in word_to_idx:\n",
        "                feature.append(word_to_idx[token])\n",
        "            else:\n",
        "                feature.append(0)\n",
        "        features.append(feature)\n",
        "    return features"
      ],
      "metadata": {
        "trusted": true,
        "execution": {
          "iopub.status.busy": "2025-04-10T10:35:40.5345Z",
          "iopub.execute_input": "2025-04-10T10:35:40.534665Z",
          "iopub.status.idle": "2025-04-10T10:35:40.538924Z",
          "shell.execute_reply.started": "2025-04-10T10:35:40.534652Z",
          "shell.execute_reply": "2025-04-10T10:35:40.538109Z"
        },
        "id": "-3MvOalpfWzd"
      },
      "outputs": [],
      "execution_count": null
    },
    {
      "cell_type": "code",
      "source": [
        "def pad_samples(features, maxlen=500, PAD=0):\n",
        "    padded_features = []\n",
        "    for feature in features:\n",
        "        if len(feature) >= maxlen:\n",
        "            padded_feature = feature[:maxlen]\n",
        "        else:\n",
        "            padded_feature = feature\n",
        "            while(len(padded_feature) < maxlen):\n",
        "                padded_feature.append(PAD)\n",
        "        padded_features.append(padded_feature)\n",
        "    return padded_features"
      ],
      "metadata": {
        "trusted": true,
        "execution": {
          "iopub.status.busy": "2025-04-10T10:35:40.539748Z",
          "iopub.execute_input": "2025-04-10T10:35:40.540166Z",
          "iopub.status.idle": "2025-04-10T10:35:40.554095Z",
          "shell.execute_reply.started": "2025-04-10T10:35:40.54014Z",
          "shell.execute_reply": "2025-04-10T10:35:40.553404Z"
        },
        "id": "q0Lhsc-wfWzd"
      },
      "outputs": [],
      "execution_count": null
    },
    {
      "cell_type": "code",
      "source": [
        "train_features = torch.tensor(pad_samples(encode_samples(train_tokenized, vocab)))\n",
        "train_labels = torch.tensor([score for _, score in train_data])\n",
        "test_features = torch.tensor(pad_samples(encode_samples(test_tokenized, vocab)))\n",
        "test_labels = torch.tensor([score for _, score in test_data])"
      ],
      "metadata": {
        "trusted": true,
        "execution": {
          "iopub.status.busy": "2025-04-10T10:35:40.554821Z",
          "iopub.execute_input": "2025-04-10T10:35:40.555003Z",
          "iopub.status.idle": "2025-04-10T10:35:47.343243Z",
          "shell.execute_reply.started": "2025-04-10T10:35:40.554989Z",
          "shell.execute_reply": "2025-04-10T10:35:47.342477Z"
        },
        "id": "-x59vP3lfWzd"
      },
      "outputs": [],
      "execution_count": null
    },
    {
      "cell_type": "code",
      "source": [
        "class SentimentNet(nn.Module):\n",
        "    def __init__(self, vocab_size, embed_size, num_hiddens, num_layers,\n",
        "                 bidirectional, weight, labels, **kwargs):\n",
        "        super(SentimentNet, self).__init__(**kwargs)\n",
        "        self.num_hiddens = num_hiddens\n",
        "        self.num_layers = num_layers\n",
        "        self.bidirectional = bidirectional\n",
        "        self.embedding = nn.Embedding.from_pretrained(weight, freeze=True)\n",
        "        # self.embedding.weight.requires_grad = False\n",
        "        self.encoder = nn.LSTM(input_size=embed_size, hidden_size=self.num_hiddens,\n",
        "                               num_layers=num_layers, bidirectional=self.bidirectional,\n",
        "                               dropout=0)\n",
        "        if self.bidirectional:\n",
        "            self.decoder = nn.Linear(num_hiddens * 4, labels)\n",
        "        else:\n",
        "            self.decoder = nn.Linear(num_hiddens * 2, labels)\n",
        "\n",
        "    def forward(self, inputs):\n",
        "        embeddings = self.embedding(inputs)\n",
        "        states, hidden = self.encoder(embeddings.permute([1, 0, 2]))\n",
        "        encoding = torch.cat([states[0], states[-1]], dim=1)\n",
        "        outputs = self.decoder(encoding)\n",
        "        return outputs"
      ],
      "metadata": {
        "trusted": true,
        "execution": {
          "iopub.status.busy": "2025-04-10T10:35:47.344217Z",
          "iopub.execute_input": "2025-04-10T10:35:47.344484Z",
          "iopub.status.idle": "2025-04-10T10:35:47.350737Z",
          "shell.execute_reply.started": "2025-04-10T10:35:47.344463Z",
          "shell.execute_reply": "2025-04-10T10:35:47.350043Z"
        },
        "id": "SLI3xf3ffWzd"
      },
      "outputs": [],
      "execution_count": null
    },
    {
      "cell_type": "code",
      "source": [
        "num_epochs = 5\n",
        "embed_size = 100\n",
        "num_hiddens = 100\n",
        "num_layers = 2\n",
        "bidirectional = True\n",
        "batch_size = 64\n",
        "labels = 2\n",
        "device = torch.device('cuda:0' if torch.cuda.is_available() else 'cpu')"
      ],
      "metadata": {
        "trusted": true,
        "execution": {
          "iopub.status.busy": "2025-04-10T10:35:47.351677Z",
          "iopub.execute_input": "2025-04-10T10:35:47.351889Z",
          "iopub.status.idle": "2025-04-10T10:35:47.366Z",
          "shell.execute_reply.started": "2025-04-10T10:35:47.351873Z",
          "shell.execute_reply": "2025-04-10T10:35:47.365469Z"
        },
        "id": "KjdAVKNZfWze"
      },
      "outputs": [],
      "execution_count": null
    },
    {
      "cell_type": "code",
      "source": [
        "weight = torch.zeros(vocab_size+1, embed_size)"
      ],
      "metadata": {
        "trusted": true,
        "execution": {
          "iopub.status.busy": "2025-04-10T10:35:47.366624Z",
          "iopub.execute_input": "2025-04-10T10:35:47.366867Z",
          "iopub.status.idle": "2025-04-10T10:35:47.39527Z",
          "shell.execute_reply.started": "2025-04-10T10:35:47.366851Z",
          "shell.execute_reply": "2025-04-10T10:35:47.394573Z"
        },
        "id": "YdQGDBFDfWze"
      },
      "outputs": [],
      "execution_count": null
    },
    {
      "cell_type": "code",
      "source": [
        "# for i in range(len(wvmodel.index2word)):\n",
        "#     try:\n",
        "#         index = word_to_idx[wvmodel.index2word[i]]\n",
        "#     except:\n",
        "#         continue\n",
        "#     weight[index, :] = torch.from_numpy(wvmodel.get_vector(\n",
        "#         idx_to_word[word_to_idx[wvmodel.index2word[i]]]))"
      ],
      "metadata": {
        "trusted": true,
        "execution": {
          "iopub.status.busy": "2025-04-10T10:35:47.398001Z",
          "iopub.execute_input": "2025-04-10T10:35:47.398195Z",
          "iopub.status.idle": "2025-04-10T10:35:47.401474Z",
          "shell.execute_reply.started": "2025-04-10T10:35:47.39818Z",
          "shell.execute_reply": "2025-04-10T10:35:47.400827Z"
        },
        "id": "vjj5LzGNfWze"
      },
      "outputs": [],
      "execution_count": null
    },
    {
      "cell_type": "code",
      "source": [
        "for word in wvmodel.index_to_key:\n",
        "    if word in word_to_idx:\n",
        "        index = word_to_idx[word]\n",
        "        weight[index] = torch.from_numpy(wvmodel.get_vector(word).copy())"
      ],
      "metadata": {
        "trusted": true,
        "execution": {
          "iopub.status.busy": "2025-04-10T10:35:47.402248Z",
          "iopub.execute_input": "2025-04-10T10:35:47.402698Z",
          "iopub.status.idle": "2025-04-10T10:35:47.936935Z",
          "shell.execute_reply.started": "2025-04-10T10:35:47.402681Z",
          "shell.execute_reply": "2025-04-10T10:35:47.936166Z"
        },
        "id": "l-Gul-WxfWze"
      },
      "outputs": [],
      "execution_count": null
    },
    {
      "cell_type": "code",
      "source": [
        "net = SentimentNet(vocab_size=(vocab_size+1), embed_size=embed_size,\n",
        "                   num_hiddens=num_hiddens, num_layers=num_layers,\n",
        "                   bidirectional=bidirectional, weight=weight,\n",
        "                   labels=labels).to(device)\n",
        "# net.to(device)\n",
        "loss_function = nn.CrossEntropyLoss()\n",
        "optimizer = optim.Adam(net.parameters())"
      ],
      "metadata": {
        "trusted": true,
        "execution": {
          "iopub.status.busy": "2025-04-10T10:44:39.705848Z",
          "iopub.execute_input": "2025-04-10T10:44:39.70632Z",
          "iopub.status.idle": "2025-04-10T10:44:39.725156Z",
          "shell.execute_reply.started": "2025-04-10T10:44:39.706296Z",
          "shell.execute_reply": "2025-04-10T10:44:39.724592Z"
        },
        "id": "Lp4AfZtlfWze"
      },
      "outputs": [],
      "execution_count": null
    },
    {
      "cell_type": "code",
      "source": [
        "train_set = torch.utils.data.TensorDataset(train_features, train_labels)\n",
        "test_set = torch.utils.data.TensorDataset(test_features, test_labels)\n",
        "\n",
        "train_iter = torch.utils.data.DataLoader(train_set, batch_size=batch_size,\n",
        "                                         shuffle=True)\n",
        "test_iter = torch.utils.data.DataLoader(test_set, batch_size=batch_size,\n",
        "                                        shuffle=False)"
      ],
      "metadata": {
        "trusted": true,
        "execution": {
          "iopub.status.busy": "2025-04-10T10:44:43.991503Z",
          "iopub.execute_input": "2025-04-10T10:44:43.991805Z",
          "iopub.status.idle": "2025-04-10T10:44:43.996486Z",
          "shell.execute_reply.started": "2025-04-10T10:44:43.99178Z",
          "shell.execute_reply": "2025-04-10T10:44:43.995664Z"
        },
        "id": "uqYiwGlzfWze"
      },
      "outputs": [],
      "execution_count": null
    },
    {
      "cell_type": "code",
      "source": [
        "num_epochs = 20"
      ],
      "metadata": {
        "trusted": true,
        "execution": {
          "iopub.status.busy": "2025-04-10T10:44:47.107549Z",
          "iopub.execute_input": "2025-04-10T10:44:47.107912Z",
          "iopub.status.idle": "2025-04-10T10:44:47.111923Z",
          "shell.execute_reply.started": "2025-04-10T10:44:47.107882Z",
          "shell.execute_reply": "2025-04-10T10:44:47.111174Z"
        },
        "id": "wZYrmaEZfWze"
      },
      "outputs": [],
      "execution_count": null
    },
    {
      "cell_type": "code",
      "source": [
        "for epoch in range(num_epochs):\n",
        "    start = time.time()\n",
        "    train_loss, test_losses = 0, 0\n",
        "    train_acc, test_acc = 0, 0\n",
        "    n, m = 0, 0\n",
        "    net.train()\n",
        "    for feature, label in train_iter:\n",
        "        n += 1\n",
        "        net.zero_grad()\n",
        "        # feature = Variable(feature.cuda())\n",
        "        # label = Variable(label.cuda())\n",
        "        feature, label = feature.to(device), label.to(device)\n",
        "        score = net(feature)\n",
        "        loss = loss_function(score, label)\n",
        "        loss.backward()\n",
        "        optimizer.step()\n",
        "        train_acc += accuracy_score(torch.argmax(score.cpu().data,\n",
        "                                                 dim=1), label.cpu())\n",
        "        train_loss += loss\n",
        "    net.eval()\n",
        "    with torch.no_grad():\n",
        "        for test_feature, test_label in test_iter:\n",
        "            m += 1\n",
        "            # test_feature = test_feature.cuda()\n",
        "            # test_label = test_label.cuda()\n",
        "            test_feature, test_label = test_feature.to(device), test_label.to(device)\n",
        "            test_score = net(test_feature)\n",
        "            test_loss = loss_function(test_score, test_label)\n",
        "            test_acc += accuracy_score(torch.argmax(test_score.cpu().data,\n",
        "                                                    dim=1), test_label.cpu())\n",
        "            test_losses += test_loss\n",
        "    end = time.time()\n",
        "    runtime = end - start\n",
        "    print('epoch: %d, train loss: %.4f, train acc: %.2f, test loss: %.4f, test acc: %.2f, time: %.2f' %\n",
        "          (epoch, train_loss.data / n, train_acc / n, test_losses.data / m, test_acc / m, runtime))"
      ],
      "metadata": {
        "trusted": true,
        "execution": {
          "iopub.status.busy": "2025-04-10T10:44:50.207829Z",
          "iopub.execute_input": "2025-04-10T10:44:50.208767Z"
        },
        "id": "OsK_muCtfWze",
        "outputId": "154e01f2-f9aa-4eaf-ab2e-dff8e631ec05"
      },
      "outputs": [
        {
          "name": "stdout",
          "text": "epoch: 0, train loss: 0.6131, train acc: 0.66, test loss: 0.6108, test acc: 0.68, time: 29.75\nepoch: 1, train loss: 0.4919, train acc: 0.77, test loss: 0.3949, test acc: 0.83, time: 29.55\nepoch: 2, train loss: 0.3709, train acc: 0.84, test loss: 0.3322, test acc: 0.86, time: 29.73\nepoch: 3, train loss: 0.3258, train acc: 0.86, test loss: 0.3067, test acc: 0.87, time: 29.86\nepoch: 4, train loss: 0.3025, train acc: 0.88, test loss: 0.2991, test acc: 0.87, time: 30.07\nepoch: 5, train loss: 0.2824, train acc: 0.88, test loss: 0.3031, test acc: 0.87, time: 29.82\nepoch: 6, train loss: 0.2605, train acc: 0.89, test loss: 0.2951, test acc: 0.88, time: 29.69\nepoch: 7, train loss: 0.2345, train acc: 0.91, test loss: 0.3006, test acc: 0.88, time: 29.69\nepoch: 8, train loss: 0.2128, train acc: 0.92, test loss: 0.3306, test acc: 0.87, time: 29.69\nepoch: 9, train loss: 0.1871, train acc: 0.93, test loss: 0.3285, test acc: 0.87, time: 29.94\nepoch: 10, train loss: 0.1571, train acc: 0.94, test loss: 0.3345, test acc: 0.87, time: 30.03\nepoch: 11, train loss: 0.1243, train acc: 0.96, test loss: 0.3902, test acc: 0.87, time: 30.00\nepoch: 12, train loss: 0.1007, train acc: 0.97, test loss: 0.3870, test acc: 0.87, time: 29.87\nepoch: 13, train loss: 0.0810, train acc: 0.97, test loss: 0.4175, test acc: 0.86, time: 30.08\nepoch: 14, train loss: 0.0588, train acc: 0.98, test loss: 0.4955, test acc: 0.87, time: 30.11\nepoch: 15, train loss: 0.0483, train acc: 0.98, test loss: 0.5316, test acc: 0.87, time: 30.12\nepoch: 16, train loss: 0.0439, train acc: 0.99, test loss: 0.5578, test acc: 0.87, time: 30.13\nepoch: 17, train loss: 0.0302, train acc: 0.99, test loss: 0.6815, test acc: 0.86, time: 30.11\nepoch: 18, train loss: 0.0366, train acc: 0.99, test loss: 0.6610, test acc: 0.87, time: 30.08\nepoch: 19, train loss: 0.0301, train acc: 0.99, test loss: 0.7053, test acc: 0.86, time: 30.15\n",
          "output_type": "stream"
        }
      ],
      "execution_count": null
    }
  ]
}