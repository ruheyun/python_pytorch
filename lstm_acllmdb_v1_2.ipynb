{
  "metadata": {
    "kernelspec": {
      "language": "python",
      "display_name": "Python 3",
      "name": "python3"
    },
    "language_info": {
      "name": "python",
      "version": "3.11.11",
      "mimetype": "text/x-python",
      "codemirror_mode": {
        "name": "ipython",
        "version": 3
      },
      "pygments_lexer": "ipython3",
      "nbconvert_exporter": "python",
      "file_extension": ".py"
    },
    "kaggle": {
      "accelerator": "gpu",
      "dataSources": [
        {
          "sourceId": 11347473,
          "sourceType": "datasetVersion",
          "datasetId": 7100154
        },
        {
          "sourceId": 11347626,
          "sourceType": "datasetVersion",
          "datasetId": 7100235
        }
      ],
      "dockerImageVersionId": 31012,
      "isInternetEnabled": true,
      "language": "python",
      "sourceType": "notebook",
      "isGpuEnabled": true
    },
    "colab": {
      "name": "lstm_acllmdb_v1",
      "provenance": [],
      "include_colab_link": true
    }
  },
  "nbformat_minor": 0,
  "nbformat": 4,
  "cells": [
    {
      "cell_type": "markdown",
      "metadata": {
        "id": "view-in-github",
        "colab_type": "text"
      },
      "source": [
        "<a href=\"https://colab.research.google.com/github/ruheyun/python_pytorch/blob/main/lstm_acllmdb_v1_2.ipynb\" target=\"_parent\"><img src=\"https://colab.research.google.com/assets/colab-badge.svg\" alt=\"Open In Colab\"/></a>"
      ]
    },
    {
      "source": [
        "# IMPORTANT: SOME KAGGLE DATA SOURCES ARE PRIVATE\n",
        "# RUN THIS CELL IN ORDER TO IMPORT YOUR KAGGLE DATA SOURCES.\n",
        "import kagglehub\n",
        "kagglehub.login()\n"
      ],
      "metadata": {
        "id": "AaGHCVwbAIIb"
      },
      "cell_type": "code",
      "outputs": [],
      "execution_count": null
    },
    {
      "source": [
        "# IMPORTANT: RUN THIS CELL IN ORDER TO IMPORT YOUR KAGGLE DATA SOURCES,\n",
        "# THEN FEEL FREE TO DELETE THIS CELL.\n",
        "# NOTE: THIS NOTEBOOK ENVIRONMENT DIFFERS FROM KAGGLE'S PYTHON\n",
        "# ENVIRONMENT SO THERE MAY BE MISSING LIBRARIES USED BY YOUR\n",
        "# NOTEBOOK.\n",
        "\n",
        "ruheyun_lstm_acllmdb_path = kagglehub.dataset_download('ruheyun/lstm-acllmdb')\n",
        "ruheyun_glove_6b_100d_path = kagglehub.dataset_download('ruheyun/glove-6b-100d')\n",
        "\n",
        "print('Data source import complete.')\n"
      ],
      "metadata": {
        "id": "elxWxCF2AIIe"
      },
      "cell_type": "code",
      "outputs": [],
      "execution_count": null
    },
    {
      "cell_type": "code",
      "source": [
        "import torch\n",
        "import torch.nn as nn\n",
        "import torch.optim as optim\n",
        "import os\n",
        "import re\n",
        "import string\n",
        "import snowballstemmer\n",
        "from nltk.corpus import stopwords\n",
        "import nltk\n",
        "from itertools import chain\n",
        "from sklearn.metrics import accuracy_score\n",
        "from gensim.test.utils import datapath\n",
        "from gensim.models import KeyedVectors\n",
        "from gensim.scripts.glove2word2vec import glove2word2vec\n",
        "from torch.utils.tensorboard import SummaryWriter\n",
        "from tqdm import tqdm\n",
        "%load_ext tensorboard"
      ],
      "metadata": {
        "trusted": true,
        "execution": {
          "iopub.status.busy": "2025-04-10T13:40:57.948858Z",
          "iopub.execute_input": "2025-04-10T13:40:57.949527Z",
          "iopub.status.idle": "2025-04-10T13:40:57.955901Z",
          "shell.execute_reply.started": "2025-04-10T13:40:57.949497Z",
          "shell.execute_reply": "2025-04-10T13:40:57.955265Z"
        },
        "id": "u2D9CeCSAIIf",
        "outputId": "f8669fa5-8404-4c26-df6e-ae98bc881ad4"
      },
      "outputs": [
        {
          "name": "stdout",
          "text": "The tensorboard extension is already loaded. To reload it, use:\n  %reload_ext tensorboard\n",
          "output_type": "stream"
        }
      ],
      "execution_count": null
    },
    {
      "cell_type": "code",
      "source": [
        "nltk.download('stopwords')\n",
        "writer = SummaryWriter('/kaggle/working/logs')"
      ],
      "metadata": {
        "trusted": true,
        "execution": {
          "iopub.status.busy": "2025-04-10T13:41:02.946403Z",
          "iopub.execute_input": "2025-04-10T13:41:02.946996Z",
          "iopub.status.idle": "2025-04-10T13:41:02.994106Z",
          "shell.execute_reply.started": "2025-04-10T13:41:02.946974Z",
          "shell.execute_reply": "2025-04-10T13:41:02.993445Z"
        },
        "id": "l8fdoxhJAIIg",
        "outputId": "4fa9ff47-27dc-4e5f-8b03-30b4b27a4534"
      },
      "outputs": [
        {
          "name": "stderr",
          "text": "[nltk_data] Downloading package stopwords to /usr/share/nltk_data...\n[nltk_data]   Package stopwords is already up-to-date!\n",
          "output_type": "stream"
        }
      ],
      "execution_count": null
    },
    {
      "cell_type": "code",
      "source": [
        "def readIMDB(path, seg='train'):\n",
        "    pos_or_neg = ['pos', 'neg']\n",
        "    data = []\n",
        "    for label in pos_or_neg:\n",
        "        files = os.listdir(os.path.join(path, seg, label))\n",
        "        for file in files:\n",
        "            with open(os.path.join(path, seg, label, file), 'r', encoding='utf8') as rf:\n",
        "                # review = rf.read().replace('\\n', '')\n",
        "                review = rf.read()\n",
        "                # review = re.sub(r'(<br\\s*/?>|\\n)', ' ', review)\n",
        "                if label == 'pos':\n",
        "                    data.append([review, 1])\n",
        "                elif label == 'neg':\n",
        "                    data.append([review, 0])\n",
        "    return data"
      ],
      "metadata": {
        "trusted": true,
        "execution": {
          "iopub.status.busy": "2025-04-10T13:09:02.188632Z",
          "iopub.execute_input": "2025-04-10T13:09:02.188961Z",
          "iopub.status.idle": "2025-04-10T13:09:02.193684Z",
          "shell.execute_reply.started": "2025-04-10T13:09:02.188937Z",
          "shell.execute_reply": "2025-04-10T13:09:02.192928Z"
        },
        "id": "-UHWLuwyAIIh"
      },
      "outputs": [],
      "execution_count": null
    },
    {
      "cell_type": "code",
      "source": [
        "# !pwd"
      ],
      "metadata": {
        "trusted": true,
        "execution": {
          "iopub.status.busy": "2025-04-10T10:30:00.345175Z",
          "iopub.execute_input": "2025-04-10T10:30:00.345414Z",
          "iopub.status.idle": "2025-04-10T10:30:00.35844Z",
          "shell.execute_reply.started": "2025-04-10T10:30:00.345393Z",
          "shell.execute_reply": "2025-04-10T10:30:00.35769Z"
        },
        "id": "I0vJmA2lAIIh"
      },
      "outputs": [],
      "execution_count": null
    },
    {
      "cell_type": "code",
      "source": [
        "# %cd /kaggle/input/lstm-acllmdb"
      ],
      "metadata": {
        "trusted": true,
        "execution": {
          "iopub.status.busy": "2025-04-10T10:30:00.359174Z",
          "iopub.execute_input": "2025-04-10T10:30:00.359399Z",
          "iopub.status.idle": "2025-04-10T10:30:00.373172Z",
          "shell.execute_reply.started": "2025-04-10T10:30:00.359384Z",
          "shell.execute_reply": "2025-04-10T10:30:00.372632Z"
        },
        "id": "hl5RrfYcAIIh"
      },
      "outputs": [],
      "execution_count": null
    },
    {
      "cell_type": "code",
      "source": [
        "# !ls"
      ],
      "metadata": {
        "trusted": true,
        "execution": {
          "iopub.status.busy": "2025-04-10T10:30:00.374539Z",
          "iopub.execute_input": "2025-04-10T10:30:00.374759Z",
          "iopub.status.idle": "2025-04-10T10:30:00.386826Z",
          "shell.execute_reply.started": "2025-04-10T10:30:00.374738Z",
          "shell.execute_reply": "2025-04-10T10:30:00.3862Z"
        },
        "id": "kxg8QozEAIIi"
      },
      "outputs": [],
      "execution_count": null
    },
    {
      "cell_type": "code",
      "source": [
        "# %cd /kaggle/working"
      ],
      "metadata": {
        "trusted": true,
        "execution": {
          "iopub.status.busy": "2025-04-10T10:30:00.387374Z",
          "iopub.execute_input": "2025-04-10T10:30:00.387527Z",
          "iopub.status.idle": "2025-04-10T10:30:00.400853Z",
          "shell.execute_reply.started": "2025-04-10T10:30:00.387515Z",
          "shell.execute_reply": "2025-04-10T10:30:00.400174Z"
        },
        "id": "J4b14z7cAIIi"
      },
      "outputs": [],
      "execution_count": null
    },
    {
      "cell_type": "code",
      "source": [
        "root = '/kaggle/input/lstm-acllmdb/aclImdb'\n",
        "train_data = readIMDB(root)\n",
        "test_data = readIMDB(root, 'test')"
      ],
      "metadata": {
        "trusted": true,
        "execution": {
          "iopub.status.busy": "2025-04-10T13:09:08.067946Z",
          "iopub.execute_input": "2025-04-10T13:09:08.068424Z",
          "iopub.status.idle": "2025-04-10T13:10:18.426438Z",
          "shell.execute_reply.started": "2025-04-10T13:09:08.068401Z",
          "shell.execute_reply": "2025-04-10T13:10:18.425877Z"
        },
        "id": "eEJgACoMAIIj"
      },
      "outputs": [],
      "execution_count": null
    },
    {
      "cell_type": "code",
      "source": [
        "train_data[0]"
      ],
      "metadata": {
        "trusted": true,
        "execution": {
          "iopub.status.busy": "2025-04-10T13:10:50.684472Z",
          "iopub.execute_input": "2025-04-10T13:10:50.685224Z",
          "iopub.status.idle": "2025-04-10T13:10:50.689593Z",
          "shell.execute_reply.started": "2025-04-10T13:10:50.685202Z",
          "shell.execute_reply": "2025-04-10T13:10:50.68892Z"
        },
        "id": "eJ4Y6AeJAIIj",
        "outputId": "a6042416-9834-4ef8-ebcb-59feeee01096"
      },
      "outputs": [
        {
          "execution_count": 19,
          "output_type": "execute_result",
          "data": {
            "text/plain": "[\"This was one of those wonderful rare moments in T.V. that I wished I'd captured forever on VHS. Won't it ever air again? <br /><br />It was so creative and I remember it was aired once a week and the wait for the next episode was excruciating. I want to see it all again. I want to buy it. I want what I can't have. Not even on EBAY. <br /><br />So, having ranted enough it was, by far, one of the best series the 80's put out. It should be considered a classic but is lost in space. At least this website and Wikipedia mention it. Sob.<br /><br />It was utterly appealing, funny, flirtatious, and original. Maybe not like Sherlock Holmes original, I actually think Quintin is far more attractive and has a better chance with his leading lady than the stiff and chalky Holmes ever could.\",\n 1]"
          },
          "metadata": {}
        }
      ],
      "execution_count": null
    },
    {
      "cell_type": "code",
      "source": [
        "def clean_text(text):\n",
        "    # Convert words to lower case\n",
        "    text = text.lower()\n",
        "\n",
        "    # Clean the text\n",
        "    text = re.sub(r\"[^A-Za-z0-9^,!.\\/'+-=]\", \" \", text)\n",
        "    text = re.sub(r\"what's\", \"what is \", text)\n",
        "    text = re.sub(r\"\\'s\", \" \", text)\n",
        "    text = re.sub(r\"\\'ve\", \" have \", text)\n",
        "    text = re.sub(r\"n't\", \" not \", text)\n",
        "    text = re.sub(r\"i'm\", \"i am \", text)\n",
        "    text = re.sub(r\"\\'re\", \" are \", text)\n",
        "    text = re.sub(r\"\\'d\", \" would \", text)\n",
        "    text = re.sub(r\"\\'ll\", \" will \", text)\n",
        "    text = re.sub(r\",\", \" \", text)\n",
        "    text = re.sub(r\"\\.\", \" \", text)\n",
        "    text = re.sub(r\"!\", \" ! \", text)\n",
        "    text = re.sub(r\"\\/\", \" \", text)\n",
        "    text = re.sub(r\"\\^\", \" ^ \", text)\n",
        "    text = re.sub(r\"\\+\", \" + \", text)\n",
        "    text = re.sub(r\"\\-\", \" - \", text)\n",
        "    text = re.sub(r\"\\=\", \" = \", text)\n",
        "    text = re.sub(r\"'\", \" \", text)\n",
        "    text = re.sub(r\"(\\d+)(k)\", r\"\\g<1>000\", text)\n",
        "    # text = re.sub(r\"(\\d+\\.?\\d*)\\s*[kK]\", lambda m: str(int(float(m.group(1)) * 1000)), text)\n",
        "    text = re.sub(r\":\", \" : \", text)\n",
        "    text = re.sub(r\" e g \", \" eg \", text)\n",
        "    text = re.sub(r\" b g \", \" bg \", text)\n",
        "    text = re.sub(r\" u s \", \" american \", text)\n",
        "    text = re.sub(r\"\\0s\", \"0\", text)\n",
        "    text = re.sub(r\" 9 11 \", \"911\", text)\n",
        "    text = re.sub(r\"e - mail\", \"email\", text)\n",
        "    text = re.sub(r\"j k\", \"jk\", text)\n",
        "    text = re.sub(r\"\\s{2,}\", \" \", text)\n",
        "\n",
        "    ## Remove puncuation\n",
        "    # text = text.translate(string.punctuation)\n",
        "    # 创建一个翻译表，将每个标点符号映射为 None（即删除）\n",
        "    translator = str.maketrans('', '', string.punctuation)\n",
        "    text = text.translate(translator)\n",
        "\n",
        "    text = text.split()\n",
        "\n",
        "    # Remove stop words\n",
        "    stops = set(stopwords.words(\"english\"))\n",
        "    text = [w for w in text if w not in stops and len(w) >= 3]\n",
        "\n",
        "    # text = \" \".join(text)\n",
        "\n",
        "    ## Stemming\n",
        "    stemmer = snowballstemmer.stemmer('english')\n",
        "    stemmed_words = [stemmer.stemWord(word) for word in text]\n",
        "    # text = \" \".join(stemmed_words)\n",
        "    # print(text)\n",
        "    return text"
      ],
      "metadata": {
        "trusted": true,
        "execution": {
          "iopub.status.busy": "2025-04-10T13:10:53.564177Z",
          "iopub.execute_input": "2025-04-10T13:10:53.564861Z",
          "iopub.status.idle": "2025-04-10T13:10:53.57271Z",
          "shell.execute_reply.started": "2025-04-10T13:10:53.564838Z",
          "shell.execute_reply": "2025-04-10T13:10:53.571946Z"
        },
        "id": "1-Fm7PX-AIIk"
      },
      "outputs": [],
      "execution_count": null
    },
    {
      "cell_type": "code",
      "source": [
        "# def tokenizer(text):\n",
        "#     return [tok.lower() for tok in text.split()]"
      ],
      "metadata": {
        "trusted": true,
        "execution": {
          "iopub.status.busy": "2025-04-10T10:31:38.41323Z",
          "iopub.execute_input": "2025-04-10T10:31:38.41346Z",
          "iopub.status.idle": "2025-04-10T10:31:38.430041Z",
          "shell.execute_reply.started": "2025-04-10T10:31:38.413441Z",
          "shell.execute_reply": "2025-04-10T10:31:38.429373Z"
        },
        "id": "8UvTPAssAIIl"
      },
      "outputs": [],
      "execution_count": null
    },
    {
      "cell_type": "code",
      "source": [
        "train_tokenized = []\n",
        "test_tokenized = []\n",
        "for review, score in train_data:\n",
        "    # train_tokenized.append(tokenizer(review))\n",
        "    train_tokenized.append(clean_text(review))\n",
        "for review, score in test_data:\n",
        "    test_tokenized.append(clean_text(review))"
      ],
      "metadata": {
        "trusted": true,
        "execution": {
          "iopub.status.busy": "2025-04-10T13:11:01.052585Z",
          "iopub.execute_input": "2025-04-10T13:11:01.052828Z",
          "iopub.status.idle": "2025-04-10T13:14:39.409546Z",
          "shell.execute_reply.started": "2025-04-10T13:11:01.052812Z",
          "shell.execute_reply": "2025-04-10T13:14:39.408994Z"
        },
        "id": "z3DT-cWOAIIl"
      },
      "outputs": [],
      "execution_count": null
    },
    {
      "cell_type": "code",
      "source": [
        "print(train_tokenized[0])\n",
        "print(len(train_tokenized[0]))"
      ],
      "metadata": {
        "trusted": true,
        "execution": {
          "iopub.status.busy": "2025-04-10T13:14:50.583219Z",
          "iopub.execute_input": "2025-04-10T13:14:50.583805Z",
          "iopub.status.idle": "2025-04-10T13:14:50.587766Z",
          "shell.execute_reply.started": "2025-04-10T13:14:50.583782Z",
          "shell.execute_reply": "2025-04-10T13:14:50.586992Z"
        },
        "id": "ts4rdyYkAIIl",
        "outputId": "a3199788-779b-4cf6-e0d0-dd46ab32e18a"
      },
      "outputs": [
        {
          "name": "stdout",
          "text": "['one', 'wonderful', 'rare', 'moments', 'wished', 'would', 'captured', 'forever', 'vhs', 'ever', 'air', 'creative', 'remember', 'aired', 'week', 'wait', 'next', 'episode', 'excruciating', 'want', 'see', 'want', 'buy', 'want', 'even', 'ebay', 'ranted', 'enough', 'far', 'one', 'best', 'series', 'put', 'considered', 'classic', 'lost', 'space', 'least', 'website', 'wikipedia', 'mention', 'sob', 'utterly', 'appealing', 'funny', 'flirtatious', 'original', 'maybe', 'like', 'sherlock', 'holmes', 'original', 'actually', 'think', 'quintin', 'far', 'attractive', 'better', 'chance', 'leading', 'lady', 'stiff', 'chalky', 'holmes', 'ever', 'could']\n66\n",
          "output_type": "stream"
        }
      ],
      "execution_count": null
    },
    {
      "cell_type": "code",
      "source": [
        "vocab = set(chain(*train_tokenized))\n",
        "vocab_size = len(vocab)"
      ],
      "metadata": {
        "trusted": true,
        "execution": {
          "iopub.status.busy": "2025-04-10T13:14:59.661014Z",
          "iopub.execute_input": "2025-04-10T13:14:59.661246Z",
          "iopub.status.idle": "2025-04-10T13:14:59.811655Z",
          "shell.execute_reply.started": "2025-04-10T13:14:59.661229Z",
          "shell.execute_reply": "2025-04-10T13:14:59.810931Z"
        },
        "id": "XQ5N0J7qAIIl"
      },
      "outputs": [],
      "execution_count": null
    },
    {
      "cell_type": "code",
      "source": [
        "print(vocab_size)"
      ],
      "metadata": {
        "trusted": true,
        "execution": {
          "iopub.status.busy": "2025-04-10T13:15:03.566914Z",
          "iopub.execute_input": "2025-04-10T13:15:03.567477Z",
          "iopub.status.idle": "2025-04-10T13:15:03.571091Z",
          "shell.execute_reply.started": "2025-04-10T13:15:03.567456Z",
          "shell.execute_reply": "2025-04-10T13:15:03.570336Z"
        },
        "id": "GPxawysgAIIl",
        "outputId": "beb26dab-baba-44f9-cbd0-13fb9504d961"
      },
      "outputs": [
        {
          "name": "stdout",
          "text": "74916\n",
          "output_type": "stream"
        }
      ],
      "execution_count": null
    },
    {
      "cell_type": "code",
      "source": [
        "# !mkdir /kaggle/working/glove-6b-100d"
      ],
      "metadata": {
        "trusted": true,
        "execution": {
          "iopub.status.busy": "2025-04-10T10:35:17.968878Z",
          "iopub.execute_input": "2025-04-10T10:35:17.969072Z",
          "iopub.status.idle": "2025-04-10T10:35:17.983372Z",
          "shell.execute_reply.started": "2025-04-10T10:35:17.969051Z",
          "shell.execute_reply": "2025-04-10T10:35:17.98268Z"
        },
        "id": "fjA6MgiLAIIm"
      },
      "outputs": [],
      "execution_count": null
    },
    {
      "cell_type": "code",
      "source": [
        "# !rm /kaggle/working/glove-6b-100d/wv.6B.100d.txt"
      ],
      "metadata": {
        "trusted": true,
        "execution": {
          "iopub.status.busy": "2025-04-10T10:35:17.984134Z",
          "iopub.execute_input": "2025-04-10T10:35:17.984473Z",
          "iopub.status.idle": "2025-04-10T10:35:17.996397Z",
          "shell.execute_reply.started": "2025-04-10T10:35:17.984447Z",
          "shell.execute_reply": "2025-04-10T10:35:17.99568Z"
        },
        "id": "BSV9KW2KAIIm"
      },
      "outputs": [],
      "execution_count": null
    },
    {
      "cell_type": "code",
      "source": [
        "# 输入文件路径\n",
        "glove_file = datapath('/kaggle/input/glove-6b-100d/glove.6B.100d.txt')\n",
        "# 输出文件路径\n",
        "# tmp_file = get_tmpfile('/kaggle/working/glove-6b-100d/wv.6B.100d.txt')\n",
        "\n",
        "# call glove2word2vec script\n",
        "# default way (through CLI): python -m gensim.scripts.glove2word2vec --input <glove_file> --output <w2v_file>\n",
        "\n",
        "# 开始转换\n",
        "# glove2word2vec(glove_file, tmp_file)\n",
        "\n",
        "# 加载转化后的文件\n",
        "# wvmodel = KeyedVectors.load_word2vec_format(tmp_file)\n",
        "wvmodel = KeyedVectors.load_word2vec_format(glove_file, binary=False, no_header=True)"
      ],
      "metadata": {
        "trusted": true,
        "execution": {
          "iopub.status.busy": "2025-04-10T13:15:10.413156Z",
          "iopub.execute_input": "2025-04-10T13:15:10.413431Z",
          "iopub.status.idle": "2025-04-10T13:15:36.978791Z",
          "shell.execute_reply.started": "2025-04-10T13:15:10.413412Z",
          "shell.execute_reply": "2025-04-10T13:15:36.978058Z"
        },
        "id": "plkrFGFPAIIm"
      },
      "outputs": [],
      "execution_count": null
    },
    {
      "cell_type": "code",
      "source": [
        "# print(wvmodel['computer'])  # 输出单词 'computer' 的词向量\n",
        "# print(wvmodel.most_similar('computer'))  # 找最相似词"
      ],
      "metadata": {
        "trusted": true,
        "execution": {
          "iopub.status.busy": "2025-04-10T10:35:40.462159Z",
          "iopub.execute_input": "2025-04-10T10:35:40.462338Z",
          "iopub.status.idle": "2025-04-10T10:35:40.466049Z",
          "shell.execute_reply.started": "2025-04-10T10:35:40.462324Z",
          "shell.execute_reply": "2025-04-10T10:35:40.465275Z"
        },
        "id": "wZNxbGZ5AIIm"
      },
      "outputs": [],
      "execution_count": null
    },
    {
      "cell_type": "code",
      "source": [
        "word_to_idx = {word: i+1 for i, word in enumerate(vocab)}\n",
        "word_to_idx['<unk>'] = 0\n",
        "idx_to_word = {i+1: word for i, word in enumerate(vocab)}\n",
        "idx_to_word[0] = '<unk>'"
      ],
      "metadata": {
        "trusted": true,
        "execution": {
          "iopub.status.busy": "2025-04-10T13:16:02.477368Z",
          "iopub.execute_input": "2025-04-10T13:16:02.477624Z",
          "iopub.status.idle": "2025-04-10T13:16:02.532223Z",
          "shell.execute_reply.started": "2025-04-10T13:16:02.477605Z",
          "shell.execute_reply": "2025-04-10T13:16:02.531699Z"
        },
        "id": "kzyzj-b8AIIm"
      },
      "outputs": [],
      "execution_count": null
    },
    {
      "cell_type": "code",
      "source": [
        "def encode_samples(tokenized_samples, vocab):\n",
        "    features = []\n",
        "    for sample in tokenized_samples:\n",
        "        feature = []\n",
        "        for token in sample:\n",
        "            if token in word_to_idx:\n",
        "                feature.append(word_to_idx[token])\n",
        "            else:\n",
        "                feature.append(0)\n",
        "        features.append(feature)\n",
        "    return features"
      ],
      "metadata": {
        "trusted": true,
        "execution": {
          "iopub.status.busy": "2025-04-10T13:16:06.483552Z",
          "iopub.execute_input": "2025-04-10T13:16:06.483876Z",
          "iopub.status.idle": "2025-04-10T13:16:06.488474Z",
          "shell.execute_reply.started": "2025-04-10T13:16:06.483856Z",
          "shell.execute_reply": "2025-04-10T13:16:06.487501Z"
        },
        "id": "u_Nm2SL6AIIm"
      },
      "outputs": [],
      "execution_count": null
    },
    {
      "cell_type": "code",
      "source": [
        "def pad_samples(features, maxlen=500, PAD=0):\n",
        "    padded_features = []\n",
        "    for feature in features:\n",
        "        if len(feature) >= maxlen:\n",
        "            padded_feature = feature[:maxlen]\n",
        "        else:\n",
        "            padded_feature = feature\n",
        "            while(len(padded_feature) < maxlen):\n",
        "                padded_feature.append(PAD)\n",
        "        padded_features.append(padded_feature)\n",
        "    return padded_features"
      ],
      "metadata": {
        "trusted": true,
        "execution": {
          "iopub.status.busy": "2025-04-10T13:41:33.485095Z",
          "iopub.execute_input": "2025-04-10T13:41:33.485602Z",
          "iopub.status.idle": "2025-04-10T13:41:33.490055Z",
          "shell.execute_reply.started": "2025-04-10T13:41:33.485578Z",
          "shell.execute_reply": "2025-04-10T13:41:33.489341Z"
        },
        "id": "56U4DscaAIIn"
      },
      "outputs": [],
      "execution_count": null
    },
    {
      "cell_type": "code",
      "source": [
        "train_features = torch.tensor(pad_samples(encode_samples(train_tokenized, vocab)))\n",
        "train_labels = torch.tensor([score for _, score in train_data])\n",
        "test_features = torch.tensor(pad_samples(encode_samples(test_tokenized, vocab)))\n",
        "test_labels = torch.tensor([score for _, score in test_data])"
      ],
      "metadata": {
        "trusted": true,
        "execution": {
          "iopub.status.busy": "2025-04-10T13:16:12.76306Z",
          "iopub.execute_input": "2025-04-10T13:16:12.763337Z",
          "iopub.status.idle": "2025-04-10T13:16:18.826367Z",
          "shell.execute_reply.started": "2025-04-10T13:16:12.763316Z",
          "shell.execute_reply": "2025-04-10T13:16:18.825597Z"
        },
        "id": "5WgSVFFZAIIn"
      },
      "outputs": [],
      "execution_count": null
    },
    {
      "cell_type": "code",
      "source": [
        "weight = torch.zeros(vocab_size+1, embed_size)"
      ],
      "metadata": {
        "trusted": true,
        "execution": {
          "iopub.status.busy": "2025-04-10T13:16:47.716939Z",
          "iopub.execute_input": "2025-04-10T13:16:47.717598Z",
          "iopub.status.idle": "2025-04-10T13:16:47.740225Z",
          "shell.execute_reply.started": "2025-04-10T13:16:47.717576Z",
          "shell.execute_reply": "2025-04-10T13:16:47.739493Z"
        },
        "id": "egbhZnykAIIn"
      },
      "outputs": [],
      "execution_count": null
    },
    {
      "cell_type": "code",
      "source": [
        "# for i in range(len(wvmodel.index2word)):\n",
        "#     try:\n",
        "#         index = word_to_idx[wvmodel.index2word[i]]\n",
        "#     except:\n",
        "#         continue\n",
        "#     weight[index, :] = torch.from_numpy(wvmodel.get_vector(\n",
        "#         idx_to_word[word_to_idx[wvmodel.index2word[i]]]))"
      ],
      "metadata": {
        "trusted": true,
        "execution": {
          "iopub.status.busy": "2025-04-10T10:35:47.398001Z",
          "iopub.execute_input": "2025-04-10T10:35:47.398195Z",
          "iopub.status.idle": "2025-04-10T10:35:47.401474Z",
          "shell.execute_reply.started": "2025-04-10T10:35:47.39818Z",
          "shell.execute_reply": "2025-04-10T10:35:47.400827Z"
        },
        "id": "AOdEzKtLAIIn"
      },
      "outputs": [],
      "execution_count": null
    },
    {
      "cell_type": "code",
      "source": [
        "for word in wvmodel.index_to_key:\n",
        "    if word in word_to_idx:\n",
        "        index = word_to_idx[word]\n",
        "        weight[index] = torch.from_numpy(wvmodel.get_vector(word).copy())"
      ],
      "metadata": {
        "trusted": true,
        "execution": {
          "iopub.status.busy": "2025-04-10T13:16:51.117448Z",
          "iopub.execute_input": "2025-04-10T13:16:51.117909Z",
          "iopub.status.idle": "2025-04-10T13:16:51.690795Z",
          "shell.execute_reply.started": "2025-04-10T13:16:51.117887Z",
          "shell.execute_reply": "2025-04-10T13:16:51.690043Z"
        },
        "id": "WT7_UI-vAIIn"
      },
      "outputs": [],
      "execution_count": null
    },
    {
      "cell_type": "code",
      "source": [
        "num_epochs = 20\n",
        "embed_size = 100\n",
        "num_hiddens = 100\n",
        "num_layers = 2\n",
        "bidirectional = True\n",
        "batch_size = 64\n",
        "labels = 2\n",
        "device = torch.device('cuda:0' if torch.cuda.is_available() else 'cpu')"
      ],
      "metadata": {
        "trusted": true,
        "execution": {
          "iopub.status.busy": "2025-04-10T13:42:15.122822Z",
          "iopub.execute_input": "2025-04-10T13:42:15.123388Z",
          "iopub.status.idle": "2025-04-10T13:42:15.127843Z",
          "shell.execute_reply.started": "2025-04-10T13:42:15.123364Z",
          "shell.execute_reply": "2025-04-10T13:42:15.127111Z"
        },
        "id": "R1X_jZ8AAIIn"
      },
      "outputs": [],
      "execution_count": null
    },
    {
      "cell_type": "code",
      "source": [
        "class SentimentNet(nn.Module):\n",
        "    def __init__(self, embed_size, num_hiddens, num_layers,\n",
        "                 bidirectional, weight, labels, **kwargs):\n",
        "        super(SentimentNet, self).__init__(**kwargs)\n",
        "        self.num_hiddens = num_hiddens\n",
        "        self.num_layers = num_layers\n",
        "        self.bidirectional = bidirectional\n",
        "        self.embedding = nn.Embedding.from_pretrained(weight, freeze=True)\n",
        "        # self.embedding.weight.requires_grad = False\n",
        "        self.encoder = nn.LSTM(input_size=embed_size, hidden_size=self.num_hiddens,\n",
        "                               num_layers=num_layers, bidirectional=self.bidirectional,\n",
        "                               dropout=0)\n",
        "        if self.bidirectional:\n",
        "            self.decoder = nn.Linear(num_hiddens * 4, labels)\n",
        "        else:\n",
        "            self.decoder = nn.Linear(num_hiddens * 2, labels)\n",
        "\n",
        "    def forward(self, inputs):\n",
        "        embeddings = self.embedding(inputs)\n",
        "        states, hidden = self.encoder(embeddings.permute([1, 0, 2]))\n",
        "        encoding = torch.cat([states[0], states[-1]], dim=1)\n",
        "        outputs = self.decoder(encoding)\n",
        "        return outputs"
      ],
      "metadata": {
        "trusted": true,
        "execution": {
          "iopub.status.busy": "2025-04-10T13:16:39.339433Z",
          "iopub.execute_input": "2025-04-10T13:16:39.3397Z",
          "iopub.status.idle": "2025-04-10T13:16:39.345808Z",
          "shell.execute_reply.started": "2025-04-10T13:16:39.339679Z",
          "shell.execute_reply": "2025-04-10T13:16:39.345064Z"
        },
        "id": "zO5XCGFoAIIn"
      },
      "outputs": [],
      "execution_count": null
    },
    {
      "cell_type": "code",
      "source": [
        "model = SentimentNet(embed_size=embed_size, num_hiddens=num_hiddens, num_layers=num_layers,\n",
        "                   bidirectional=bidirectional, weight=weight, labels=labels).to(device)\n",
        "# net.to(device)\n",
        "loss_function = nn.CrossEntropyLoss()\n",
        "optimizer = optim.Adam(model.parameters())"
      ],
      "metadata": {
        "trusted": true,
        "execution": {
          "iopub.status.busy": "2025-04-10T13:42:22.083618Z",
          "iopub.execute_input": "2025-04-10T13:42:22.083852Z",
          "iopub.status.idle": "2025-04-10T13:42:22.105138Z",
          "shell.execute_reply.started": "2025-04-10T13:42:22.083836Z",
          "shell.execute_reply": "2025-04-10T13:42:22.104587Z"
        },
        "id": "EDTVEg1QAIIo"
      },
      "outputs": [],
      "execution_count": null
    },
    {
      "cell_type": "code",
      "source": [
        "train_set = torch.utils.data.TensorDataset(train_features, train_labels)\n",
        "test_set = torch.utils.data.TensorDataset(test_features, test_labels)\n",
        "\n",
        "train_iter = torch.utils.data.DataLoader(train_set, batch_size=batch_size, shuffle=True)\n",
        "test_iter = torch.utils.data.DataLoader(test_set, batch_size=batch_size, shuffle=False)"
      ],
      "metadata": {
        "trusted": true,
        "execution": {
          "iopub.status.busy": "2025-04-10T13:17:03.840775Z",
          "iopub.execute_input": "2025-04-10T13:17:03.841345Z",
          "iopub.status.idle": "2025-04-10T13:17:03.845878Z",
          "shell.execute_reply.started": "2025-04-10T13:17:03.841317Z",
          "shell.execute_reply": "2025-04-10T13:17:03.845126Z"
        },
        "id": "SV4y9WAbAIIo"
      },
      "outputs": [],
      "execution_count": null
    },
    {
      "cell_type": "code",
      "source": [
        "def train(model, epoch):\n",
        "    train_loss = 0\n",
        "    train_acc = 0\n",
        "    count = 0\n",
        "    model.train()\n",
        "    with tqdm(total = len(train_iter), desc=f'Epoch {epoch+1}/{num_epochs}', unit='it') as pbar:\n",
        "        for feature, label in train_iter:\n",
        "            count += 1\n",
        "            model.zero_grad()\n",
        "            feature, label = feature.to(device), label.to(device)\n",
        "            score = model(feature)\n",
        "            loss = loss_function(score, label)\n",
        "            loss.backward()\n",
        "            optimizer.step()\n",
        "            train_acc += accuracy_score(torch.argmax(score.cpu().data, dim=1), label.cpu())\n",
        "            train_loss += loss\n",
        "            pbar.set_postfix({'train_loss':f'{(train_loss / count):.3f}', 'train_acc':f'{(train_acc / count):.3f}'})\n",
        "            pbar.update(1)\n",
        "        writer.add_scalar('train_loss', train_loss / count, epoch + 1)\n",
        "        writer.add_scalar('train_acc', train_acc / count, epoch + 1)"
      ],
      "metadata": {
        "trusted": true,
        "execution": {
          "iopub.status.busy": "2025-04-10T13:31:06.87334Z",
          "iopub.execute_input": "2025-04-10T13:31:06.873983Z",
          "iopub.status.idle": "2025-04-10T13:31:06.879413Z",
          "shell.execute_reply.started": "2025-04-10T13:31:06.873958Z",
          "shell.execute_reply": "2025-04-10T13:31:06.878627Z"
        },
        "id": "lJojcL0kAIIo"
      },
      "outputs": [],
      "execution_count": null
    },
    {
      "cell_type": "code",
      "source": [
        "def test(model, epoch):\n",
        "    test_losses = 0\n",
        "    test_acc = 0\n",
        "    count = 0\n",
        "    model.eval()\n",
        "    with torch.no_grad():\n",
        "        for test_feature, test_label in test_iter:\n",
        "            count += 1\n",
        "            test_feature, test_label = test_feature.to(device), test_label.to(device)\n",
        "            test_score = model(test_feature)\n",
        "            test_loss = loss_function(test_score, test_label)\n",
        "            test_acc += accuracy_score(torch.argmax(test_score.cpu().data, dim=1), test_label.cpu())\n",
        "            test_losses += test_loss\n",
        "        print('epoch: %d, test loss: %.4f, test acc: %.2f' % (epoch + 1, test_losses.data / count, test_acc / count))\n",
        "        writer.add_scalar('test_loss', test_losses / count, epoch + 1)\n",
        "        writer.add_scalar('test_acc', test_acc / count, epoch + 1)"
      ],
      "metadata": {
        "trusted": true,
        "execution": {
          "iopub.status.busy": "2025-04-10T13:31:10.822962Z",
          "iopub.execute_input": "2025-04-10T13:31:10.823694Z",
          "iopub.status.idle": "2025-04-10T13:31:10.828766Z",
          "shell.execute_reply.started": "2025-04-10T13:31:10.823658Z",
          "shell.execute_reply": "2025-04-10T13:31:10.828021Z"
        },
        "id": "v03qqGToAIIo"
      },
      "outputs": [],
      "execution_count": null
    },
    {
      "cell_type": "code",
      "source": [
        "for epoch in range(num_epochs):\n",
        "    train(model, epoch)\n",
        "    test(model, epoch)\n",
        "\n",
        "writer.close()"
      ],
      "metadata": {
        "trusted": true,
        "execution": {
          "iopub.status.busy": "2025-04-10T13:42:55.27102Z",
          "iopub.execute_input": "2025-04-10T13:42:55.271569Z",
          "iopub.status.idle": "2025-04-10T13:53:30.404722Z",
          "shell.execute_reply.started": "2025-04-10T13:42:55.271547Z",
          "shell.execute_reply": "2025-04-10T13:53:30.404002Z"
        },
        "id": "IlZgL_oTAIIo",
        "outputId": "d4345de4-be56-49b5-93f8-196c3a39a742"
      },
      "outputs": [
        {
          "name": "stderr",
          "text": "Epoch 1/20: 100%|██████████| 391/391 [00:23<00:00, 16.71it/s, train_loss=0.566, train_acc=0.714]\n",
          "output_type": "stream"
        },
        {
          "name": "stdout",
          "text": "epoch: 1, test loss: 0.5031, test acc: 0.77\n",
          "output_type": "stream"
        },
        {
          "name": "stderr",
          "text": "Epoch 2/20: 100%|██████████| 391/391 [00:23<00:00, 16.70it/s, train_loss=0.440, train_acc=0.805]\n",
          "output_type": "stream"
        },
        {
          "name": "stdout",
          "text": "epoch: 2, test loss: 0.3794, test acc: 0.84\n",
          "output_type": "stream"
        },
        {
          "name": "stderr",
          "text": "Epoch 3/20: 100%|██████████| 391/391 [00:23<00:00, 16.69it/s, train_loss=0.363, train_acc=0.847]\n",
          "output_type": "stream"
        },
        {
          "name": "stdout",
          "text": "epoch: 3, test loss: 0.3363, test acc: 0.85\n",
          "output_type": "stream"
        },
        {
          "name": "stderr",
          "text": "Epoch 4/20: 100%|██████████| 391/391 [00:23<00:00, 16.67it/s, train_loss=0.312, train_acc=0.871]\n",
          "output_type": "stream"
        },
        {
          "name": "stdout",
          "text": "epoch: 4, test loss: 0.2989, test acc: 0.87\n",
          "output_type": "stream"
        },
        {
          "name": "stderr",
          "text": "Epoch 5/20: 100%|██████████| 391/391 [00:23<00:00, 16.67it/s, train_loss=0.284, train_acc=0.884]\n",
          "output_type": "stream"
        },
        {
          "name": "stdout",
          "text": "epoch: 5, test loss: 0.2906, test acc: 0.88\n",
          "output_type": "stream"
        },
        {
          "name": "stderr",
          "text": "Epoch 6/20: 100%|██████████| 391/391 [00:23<00:00, 16.66it/s, train_loss=0.255, train_acc=0.896]\n",
          "output_type": "stream"
        },
        {
          "name": "stdout",
          "text": "epoch: 6, test loss: 0.2802, test acc: 0.88\n",
          "output_type": "stream"
        },
        {
          "name": "stderr",
          "text": "Epoch 7/20: 100%|██████████| 391/391 [00:23<00:00, 16.67it/s, train_loss=0.231, train_acc=0.908]\n",
          "output_type": "stream"
        },
        {
          "name": "stdout",
          "text": "epoch: 7, test loss: 0.3046, test acc: 0.88\n",
          "output_type": "stream"
        },
        {
          "name": "stderr",
          "text": "Epoch 8/20: 100%|██████████| 391/391 [00:23<00:00, 16.67it/s, train_loss=0.199, train_acc=0.922]\n",
          "output_type": "stream"
        },
        {
          "name": "stdout",
          "text": "epoch: 8, test loss: 0.3138, test acc: 0.88\n",
          "output_type": "stream"
        },
        {
          "name": "stderr",
          "text": "Epoch 9/20: 100%|██████████| 391/391 [00:23<00:00, 16.67it/s, train_loss=0.167, train_acc=0.939]\n",
          "output_type": "stream"
        },
        {
          "name": "stdout",
          "text": "epoch: 9, test loss: 0.3210, test acc: 0.88\n",
          "output_type": "stream"
        },
        {
          "name": "stderr",
          "text": "Epoch 10/20: 100%|██████████| 391/391 [00:23<00:00, 16.67it/s, train_loss=0.130, train_acc=0.954]\n",
          "output_type": "stream"
        },
        {
          "name": "stdout",
          "text": "epoch: 10, test loss: 0.3683, test acc: 0.87\n",
          "output_type": "stream"
        },
        {
          "name": "stderr",
          "text": "Epoch 11/20: 100%|██████████| 391/391 [00:23<00:00, 16.64it/s, train_loss=0.098, train_acc=0.965]\n",
          "output_type": "stream"
        },
        {
          "name": "stdout",
          "text": "epoch: 11, test loss: 0.4179, test acc: 0.87\n",
          "output_type": "stream"
        },
        {
          "name": "stderr",
          "text": "Epoch 12/20: 100%|██████████| 391/391 [00:23<00:00, 16.66it/s, train_loss=0.074, train_acc=0.975]\n",
          "output_type": "stream"
        },
        {
          "name": "stdout",
          "text": "epoch: 12, test loss: 0.4353, test acc: 0.87\n",
          "output_type": "stream"
        },
        {
          "name": "stderr",
          "text": "Epoch 13/20: 100%|██████████| 391/391 [00:23<00:00, 16.66it/s, train_loss=0.054, train_acc=0.983]\n",
          "output_type": "stream"
        },
        {
          "name": "stdout",
          "text": "epoch: 13, test loss: 0.5194, test acc: 0.87\n",
          "output_type": "stream"
        },
        {
          "name": "stderr",
          "text": "Epoch 14/20: 100%|██████████| 391/391 [00:23<00:00, 16.65it/s, train_loss=0.040, train_acc=0.987]\n",
          "output_type": "stream"
        },
        {
          "name": "stdout",
          "text": "epoch: 14, test loss: 0.6295, test acc: 0.86\n",
          "output_type": "stream"
        },
        {
          "name": "stderr",
          "text": "Epoch 15/20: 100%|██████████| 391/391 [00:23<00:00, 16.65it/s, train_loss=0.033, train_acc=0.989]\n",
          "output_type": "stream"
        },
        {
          "name": "stdout",
          "text": "epoch: 15, test loss: 0.6334, test acc: 0.87\n",
          "output_type": "stream"
        },
        {
          "name": "stderr",
          "text": "Epoch 16/20: 100%|██████████| 391/391 [00:23<00:00, 16.67it/s, train_loss=0.029, train_acc=0.991]\n",
          "output_type": "stream"
        },
        {
          "name": "stdout",
          "text": "epoch: 16, test loss: 0.7072, test acc: 0.86\n",
          "output_type": "stream"
        },
        {
          "name": "stderr",
          "text": "Epoch 17/20: 100%|██████████| 391/391 [00:23<00:00, 16.65it/s, train_loss=0.022, train_acc=0.993]\n",
          "output_type": "stream"
        },
        {
          "name": "stdout",
          "text": "epoch: 17, test loss: 0.6897, test acc: 0.87\n",
          "output_type": "stream"
        },
        {
          "name": "stderr",
          "text": "Epoch 18/20: 100%|██████████| 391/391 [00:23<00:00, 16.66it/s, train_loss=0.024, train_acc=0.991]\n",
          "output_type": "stream"
        },
        {
          "name": "stdout",
          "text": "epoch: 18, test loss: 0.7605, test acc: 0.87\n",
          "output_type": "stream"
        },
        {
          "name": "stderr",
          "text": "Epoch 19/20: 100%|██████████| 391/391 [00:23<00:00, 16.67it/s, train_loss=0.021, train_acc=0.993]\n",
          "output_type": "stream"
        },
        {
          "name": "stdout",
          "text": "epoch: 19, test loss: 0.7162, test acc: 0.87\n",
          "output_type": "stream"
        },
        {
          "name": "stderr",
          "text": "Epoch 20/20: 100%|██████████| 391/391 [00:23<00:00, 16.67it/s, train_loss=0.019, train_acc=0.994]\n",
          "output_type": "stream"
        },
        {
          "name": "stdout",
          "text": "epoch: 20, test loss: 0.7169, test acc: 0.87\n",
          "output_type": "stream"
        }
      ],
      "execution_count": null
    },
    {
      "cell_type": "code",
      "source": [
        "!rm -rf /kaggle/working/logs"
      ],
      "metadata": {
        "trusted": true,
        "execution": {
          "iopub.status.busy": "2025-04-10T13:40:49.9314Z",
          "iopub.execute_input": "2025-04-10T13:40:49.932323Z",
          "iopub.status.idle": "2025-04-10T13:40:50.114123Z",
          "shell.execute_reply.started": "2025-04-10T13:40:49.932268Z",
          "shell.execute_reply": "2025-04-10T13:40:50.113352Z"
        },
        "id": "YVDyLy1VAIIp"
      },
      "outputs": [],
      "execution_count": null
    },
    {
      "cell_type": "code",
      "source": [
        "%tensorboard --logdir=logs"
      ],
      "metadata": {
        "trusted": true,
        "execution": {
          "iopub.status.busy": "2025-04-10T13:36:47.803771Z",
          "iopub.execute_input": "2025-04-10T13:36:47.80449Z",
          "iopub.status.idle": "2025-04-10T13:36:53.335475Z",
          "shell.execute_reply.started": "2025-04-10T13:36:47.804464Z",
          "shell.execute_reply": "2025-04-10T13:36:53.334849Z"
        },
        "id": "NdyLEmz1AIIp",
        "outputId": "0dab217d-a441-4f1a-a408-f35ba475e5e6"
      },
      "outputs": [
        {
          "output_type": "display_data",
          "data": {
            "text/plain": "<IPython.core.display.Javascript object>",
            "application/javascript": "\n        (async () => {\n            const url = new URL(await google.colab.kernel.proxyPort(6006, {'cache': true}));\n            url.searchParams.set('tensorboardColab', 'true');\n            const iframe = document.createElement('iframe');\n            iframe.src = url;\n            iframe.setAttribute('width', '100%');\n            iframe.setAttribute('height', '800');\n            iframe.setAttribute('frameborder', 0);\n            document.body.appendChild(iframe);\n        })();\n    "
          },
          "metadata": {}
        }
      ],
      "execution_count": null
    }
  ]
}