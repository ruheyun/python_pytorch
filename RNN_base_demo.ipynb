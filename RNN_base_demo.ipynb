{
  "metadata": {
    "kernelspec": {
      "language": "python",
      "display_name": "Python 3",
      "name": "python3"
    },
    "language_info": {
      "name": "python",
      "version": "3.10.12",
      "mimetype": "text/x-python",
      "codemirror_mode": {
        "name": "ipython",
        "version": 3
      },
      "pygments_lexer": "ipython3",
      "nbconvert_exporter": "python",
      "file_extension": ".py"
    },
    "kaggle": {
      "accelerator": "gpu",
      "dataSources": [],
      "dockerImageVersionId": 30918,
      "isInternetEnabled": true,
      "language": "python",
      "sourceType": "notebook",
      "isGpuEnabled": true
    },
    "colab": {
      "name": "RNN_base_demo",
      "provenance": [],
      "include_colab_link": true
    }
  },
  "nbformat_minor": 0,
  "nbformat": 4,
  "cells": [
    {
      "cell_type": "markdown",
      "metadata": {
        "id": "view-in-github",
        "colab_type": "text"
      },
      "source": [
        "<a href=\"https://colab.research.google.com/github/ruheyun/python_pytorch/blob/main/RNN_base_demo.ipynb\" target=\"_parent\"><img src=\"https://colab.research.google.com/assets/colab-badge.svg\" alt=\"Open In Colab\"/></a>"
      ]
    },
    {
      "cell_type": "markdown",
      "source": [
        "词性判断rnn神经网络，pytorch实现"
      ],
      "metadata": {
        "id": "NPj1Nb4hcGwI"
      }
    },
    {
      "cell_type": "code",
      "source": [
        "import torch\n",
        "import torch.nn as nn\n",
        "import torch.nn.functional as F"
      ],
      "metadata": {
        "trusted": true,
        "execution": {
          "iopub.status.busy": "2025-04-09T11:52:23.376133Z",
          "iopub.execute_input": "2025-04-09T11:52:23.376399Z",
          "iopub.status.idle": "2025-04-09T11:52:23.380377Z",
          "shell.execute_reply.started": "2025-04-09T11:52:23.376377Z",
          "shell.execute_reply": "2025-04-09T11:52:23.379601Z"
        },
        "id": "rErOom3xcGwM"
      },
      "outputs": [],
      "execution_count": null
    },
    {
      "cell_type": "code",
      "source": [
        "training_data = [\n",
        "    ('the cat ate the fish'.split(), ['det', 'nn', 'v', 'det', 'nn']),\n",
        "    ('they read that book'.split(), ['nn', 'v', 'det', 'nn'])\n",
        "]\n",
        "\n",
        "testing_data = [\n",
        "    ('they ate the fish'.split())\n",
        "]"
      ],
      "metadata": {
        "trusted": true,
        "execution": {
          "iopub.status.busy": "2025-04-09T11:52:25.122886Z",
          "iopub.execute_input": "2025-04-09T11:52:25.123161Z",
          "iopub.status.idle": "2025-04-09T11:52:25.127368Z",
          "shell.execute_reply.started": "2025-04-09T11:52:25.12314Z",
          "shell.execute_reply": "2025-04-09T11:52:25.126494Z"
        },
        "id": "gTXFTx-ccGwO"
      },
      "outputs": [],
      "execution_count": null
    },
    {
      "cell_type": "code",
      "source": [
        "word_to_idx = {}\n",
        "tag_to_idx = {}\n",
        "for sent, tags in training_data:\n",
        "    for word in sent:\n",
        "        if word not in word_to_idx:\n",
        "            word_to_idx[word] = len(word_to_idx)\n",
        "    for tag in tags:\n",
        "        if tag not in tag_to_idx:\n",
        "            tag_to_idx[tag] = len(tag_to_idx)\n",
        "print(word_to_idx)\n",
        "print(tag_to_idx)"
      ],
      "metadata": {
        "trusted": true,
        "execution": {
          "iopub.status.busy": "2025-04-09T11:52:26.293142Z",
          "iopub.execute_input": "2025-04-09T11:52:26.293443Z",
          "iopub.status.idle": "2025-04-09T11:52:26.29893Z",
          "shell.execute_reply.started": "2025-04-09T11:52:26.293416Z",
          "shell.execute_reply": "2025-04-09T11:52:26.298083Z"
        },
        "id": "QC-Swjn6cGwP",
        "outputId": "09b7b960-39a2-4a88-c120-e08fb3214340"
      },
      "outputs": [
        {
          "name": "stdout",
          "text": "{'the': 0, 'cat': 1, 'ate': 2, 'fish': 3, 'they': 4, 'read': 5, 'that': 6, 'book': 7}\n{'det': 0, 'nn': 1, 'v': 2}\n",
          "output_type": "stream"
        }
      ],
      "execution_count": null
    },
    {
      "cell_type": "code",
      "source": [
        "class LSTMTagger(nn.Module):\n",
        "\n",
        "    def __init__(self, embedding_dim, hidden_dim, vocab_size, tagset_size):\n",
        "        super(LSTMTagger, self).__init__()\n",
        "        self.hidden_dim = hidden_dim\n",
        "        self.word_embeddings = nn.Embedding(vocab_size, embedding_dim)\n",
        "        self.lstm = nn.LSTM(embedding_dim, hidden_dim)\n",
        "        self.hidden2tag = nn.Linear(hidden_dim, tagset_size)\n",
        "        self.hidden = self.init_hidden()\n",
        "\n",
        "    def init_hidden(self):\n",
        "        return (torch.zeros(1, 1, self.hidden_dim), torch.zeros(1, 1, self.hidden_dim))\n",
        "\n",
        "    def forward(self, sentence):\n",
        "        embeds = self.word_embeddings(sentence)\n",
        "        lstm_out, self.hidden = self.lstm(embeds.view(len(sentence), 1, -1), self.hidden)\n",
        "        tag_space = self.hidden2tag(lstm_out.view(len(sentence), -1))\n",
        "        tag_scores = F.log_softmax(tag_space, dim=1)\n",
        "        return tag_scores"
      ],
      "metadata": {
        "trusted": true,
        "execution": {
          "iopub.status.busy": "2025-04-09T11:52:29.728971Z",
          "iopub.execute_input": "2025-04-09T11:52:29.72926Z",
          "iopub.status.idle": "2025-04-09T11:52:29.735198Z",
          "shell.execute_reply.started": "2025-04-09T11:52:29.729238Z",
          "shell.execute_reply": "2025-04-09T11:52:29.734156Z"
        },
        "id": "JU6P9uzHcGwQ"
      },
      "outputs": [],
      "execution_count": null
    },
    {
      "cell_type": "code",
      "source": [
        "def prepare_sequence(seq, to_ix):\n",
        "    idxs = [to_ix[w] for w in seq]\n",
        "    tensor = torch.LongTensor(idxs)\n",
        "    return tensor"
      ],
      "metadata": {
        "trusted": true,
        "execution": {
          "iopub.status.busy": "2025-04-09T11:52:32.147048Z",
          "iopub.execute_input": "2025-04-09T11:52:32.147317Z",
          "iopub.status.idle": "2025-04-09T11:52:32.15123Z",
          "shell.execute_reply.started": "2025-04-09T11:52:32.147296Z",
          "shell.execute_reply": "2025-04-09T11:52:32.15031Z"
        },
        "id": "0jyvdWmIcGwQ"
      },
      "outputs": [],
      "execution_count": null
    },
    {
      "cell_type": "code",
      "source": [
        "embedding_dim = 10\n",
        "hidden_dim = 3\n",
        "model = LSTMTagger(embedding_dim, hidden_dim, len(word_to_idx), len(tag_to_idx))\n",
        "loss_function = nn.NLLLoss()\n",
        "optimizer = torch.optim.SGD(model.parameters(), lr=1e-1)"
      ],
      "metadata": {
        "trusted": true,
        "execution": {
          "iopub.status.busy": "2025-04-09T11:53:54.965323Z",
          "iopub.execute_input": "2025-04-09T11:53:54.965621Z",
          "iopub.status.idle": "2025-04-09T11:53:54.971256Z",
          "shell.execute_reply.started": "2025-04-09T11:53:54.965599Z",
          "shell.execute_reply": "2025-04-09T11:53:54.970603Z"
        },
        "id": "AtBHE2G1cGwR"
      },
      "outputs": [],
      "execution_count": null
    },
    {
      "cell_type": "code",
      "source": [
        "inputs = prepare_sequence(training_data[0][0], word_to_idx)\n",
        "tag_scores = model(inputs)\n",
        "print(training_data[0][0])\n",
        "print(inputs)\n",
        "print(tag_scores)\n",
        "print(torch.max(tag_scores, 1))"
      ],
      "metadata": {
        "trusted": true,
        "execution": {
          "iopub.status.busy": "2025-04-09T11:53:58.969173Z",
          "iopub.execute_input": "2025-04-09T11:53:58.969446Z",
          "iopub.status.idle": "2025-04-09T11:53:58.977661Z",
          "shell.execute_reply.started": "2025-04-09T11:53:58.969425Z",
          "shell.execute_reply": "2025-04-09T11:53:58.976824Z"
        },
        "id": "m2rpsVQTcGwS",
        "outputId": "61f12bf2-56fa-4dfc-a10d-722cef5427a6"
      },
      "outputs": [
        {
          "name": "stdout",
          "text": "['the', 'cat', 'ate', 'the', 'fish']\ntensor([0, 1, 2, 0, 3])\ntensor([[-1.4063, -1.4401, -0.6577],\n        [-1.3587, -1.4525, -0.6752],\n        [-1.3959, -1.5474, -0.6170],\n        [-1.4101, -1.4654, -0.6446],\n        [-1.4283, -1.4377, -0.6485]], grad_fn=<LogSoftmaxBackward0>)\ntorch.return_types.max(\nvalues=tensor([-0.6577, -0.6752, -0.6170, -0.6446, -0.6485], grad_fn=<MaxBackward0>),\nindices=tensor([2, 2, 2, 2, 2]))\n",
          "output_type": "stream"
        }
      ],
      "execution_count": null
    },
    {
      "cell_type": "code",
      "source": [
        "for epoch in range(100):\n",
        "    model.train()\n",
        "    for sentence, tags in training_data:\n",
        "        model.hidden = model.init_hidden()\n",
        "        sentence_in = prepare_sequence(sentence, word_to_idx)\n",
        "        targets = prepare_sequence(tags, tag_to_idx)\n",
        "        tag_scores = model(sentence_in)\n",
        "        loss = loss_function(tag_scores, targets)\n",
        "        optimizer.zero_grad()\n",
        "        loss.backward()\n",
        "        optimizer.step()\n",
        "\n",
        "\n",
        "inputs = prepare_sequence(training_data[0][0], word_to_idx)\n",
        "tag_scores = model(inputs)\n",
        "print(training_data[0][0])\n",
        "print(inputs)\n",
        "print(tag_scores)\n",
        "print(torch.max(tag_scores, 1))"
      ],
      "metadata": {
        "trusted": true,
        "execution": {
          "iopub.status.busy": "2025-04-09T12:00:11.493412Z",
          "iopub.execute_input": "2025-04-09T12:00:11.493738Z",
          "iopub.status.idle": "2025-04-09T12:00:11.749061Z",
          "shell.execute_reply.started": "2025-04-09T12:00:11.493693Z",
          "shell.execute_reply": "2025-04-09T12:00:11.748119Z"
        },
        "id": "S_c_WqaQcGwS",
        "outputId": "8415c7da-427c-4420-e66c-66f45c67c4aa"
      },
      "outputs": [
        {
          "name": "stdout",
          "text": "['the', 'cat', 'ate', 'the', 'fish']\ntensor([0, 1, 2, 0, 3])\ntensor([[-1.3316e-01, -2.1069e+00, -5.7890e+00],\n        [-8.3180e+00, -7.6003e-04, -7.5700e+00],\n        [-5.0714e+00, -5.1951e+00, -1.1887e-02],\n        [-3.3127e-03, -6.0865e+00, -6.8743e+00],\n        [-5.0985e+00, -1.2095e-02, -5.1301e+00]],\n       grad_fn=<LogSoftmaxBackward0>)\ntorch.return_types.max(\nvalues=tensor([-0.1332, -0.0008, -0.0119, -0.0033, -0.0121], grad_fn=<MaxBackward0>),\nindices=tensor([0, 1, 2, 0, 1]))\n",
          "output_type": "stream"
        }
      ],
      "execution_count": null
    },
    {
      "cell_type": "code",
      "source": [
        "test_inputs = prepare_sequence(testing_data[0], word_to_idx)\n",
        "tag_scores01 = model(test_inputs)\n",
        "print(testing_data[0])\n",
        "print(test_inputs)\n",
        "print(tag_scores01)\n",
        "print(torch.max(tag_scores01, 1))"
      ],
      "metadata": {
        "trusted": true,
        "execution": {
          "iopub.status.busy": "2025-04-09T12:03:25.874756Z",
          "iopub.execute_input": "2025-04-09T12:03:25.875096Z",
          "iopub.status.idle": "2025-04-09T12:03:25.884248Z",
          "shell.execute_reply.started": "2025-04-09T12:03:25.875069Z",
          "shell.execute_reply": "2025-04-09T12:03:25.883454Z"
        },
        "id": "QIm28SUjcGwT",
        "outputId": "be6f0fa6-848a-442b-a70d-5f36e5e4d889"
      },
      "outputs": [
        {
          "name": "stdout",
          "text": "['they', 'ate', 'the', 'fish']\ntensor([4, 2, 0, 3])\ntensor([[-7.7705e+00, -1.8340e-02, -4.0313e+00],\n        [-4.5646e+00, -4.9123e+00, -1.7929e-02],\n        [-3.1276e-03, -6.2567e+00, -6.7212e+00],\n        [-4.9368e+00, -1.4528e-02, -4.9274e+00]],\n       grad_fn=<LogSoftmaxBackward0>)\ntorch.return_types.max(\nvalues=tensor([-0.0183, -0.0179, -0.0031, -0.0145], grad_fn=<MaxBackward0>),\nindices=tensor([1, 2, 0, 1]))\n",
          "output_type": "stream"
        }
      ],
      "execution_count": null
    }
  ]
}