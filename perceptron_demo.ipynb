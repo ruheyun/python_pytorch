{
  "metadata": {
    "kernelspec": {
      "language": "python",
      "display_name": "Python 3",
      "name": "python3"
    },
    "language_info": {
      "name": "python",
      "version": "3.11.11",
      "mimetype": "text/x-python",
      "codemirror_mode": {
        "name": "ipython",
        "version": 3
      },
      "pygments_lexer": "ipython3",
      "nbconvert_exporter": "python",
      "file_extension": ".py"
    },
    "kaggle": {
      "accelerator": "none",
      "dataSources": [
        {
          "sourceId": 11782026,
          "sourceType": "datasetVersion",
          "datasetId": 7397154
        }
      ],
      "dockerImageVersionId": 31012,
      "isInternetEnabled": true,
      "language": "python",
      "sourceType": "notebook",
      "isGpuEnabled": false
    },
    "colab": {
      "name": "perceptron_demo",
      "provenance": [],
      "include_colab_link": true
    }
  },
  "nbformat_minor": 0,
  "nbformat": 4,
  "cells": [
    {
      "cell_type": "markdown",
      "metadata": {
        "id": "view-in-github",
        "colab_type": "text"
      },
      "source": [
        "<a href=\"https://colab.research.google.com/github/ruheyun/python_pytorch/blob/main/perceptron_demo.ipynb\" target=\"_parent\"><img src=\"https://colab.research.google.com/assets/colab-badge.svg\" alt=\"Open In Colab\"/></a>"
      ]
    },
    {
      "source": [
        "# IMPORTANT: SOME KAGGLE DATA SOURCES ARE PRIVATE\n",
        "# RUN THIS CELL IN ORDER TO IMPORT YOUR KAGGLE DATA SOURCES.\n",
        "import kagglehub\n",
        "kagglehub.login()\n"
      ],
      "metadata": {
        "id": "1oyWLtZghr5F"
      },
      "cell_type": "code",
      "outputs": [],
      "execution_count": null
    },
    {
      "source": [
        "# IMPORTANT: RUN THIS CELL IN ORDER TO IMPORT YOUR KAGGLE DATA SOURCES,\n",
        "# THEN FEEL FREE TO DELETE THIS CELL.\n",
        "# NOTE: THIS NOTEBOOK ENVIRONMENT DIFFERS FROM KAGGLE'S PYTHON\n",
        "# ENVIRONMENT SO THERE MAY BE MISSING LIBRARIES USED BY YOUR\n",
        "# NOTEBOOK.\n",
        "\n",
        "ruheyun_ganzhiji_path = kagglehub.dataset_download('ruheyun/ganzhiji')\n",
        "\n",
        "print('Data source import complete.')\n"
      ],
      "metadata": {
        "id": "Z6pCyFC3hr5G"
      },
      "cell_type": "code",
      "outputs": [],
      "execution_count": null
    },
    {
      "cell_type": "code",
      "source": [
        "# 安装watermark用于jupyter魔法命令打印环境信息\n",
        "!pip install watermark\n",
        "%load_ext watermark\n",
        "%watermark -a 'yunchao zhao' -v -p torch"
      ],
      "metadata": {
        "_uuid": "8f2839f25d086af736a60e9eeb907d3b93b6e0e5",
        "_cell_guid": "b1076dfc-b9ad-4769-8c92-a6c4dae69d19",
        "trusted": true,
        "execution": {
          "iopub.status.busy": "2025-05-12T12:28:49.802461Z",
          "iopub.execute_input": "2025-05-12T12:28:49.803642Z",
          "iopub.status.idle": "2025-05-12T12:28:53.619238Z",
          "shell.execute_reply.started": "2025-05-12T12:28:49.803508Z",
          "shell.execute_reply": "2025-05-12T12:28:53.618049Z"
        },
        "id": "rfTmFBOfhr5H",
        "outputId": "3cf55175-8a76-44d4-b865-9deb91becc4d"
      },
      "outputs": [
        {
          "name": "stdout",
          "text": "Requirement already satisfied: watermark in /usr/local/lib/python3.11/dist-packages (2.5.0)\nRequirement already satisfied: ipython>=6.0 in /usr/local/lib/python3.11/dist-packages (from watermark) (7.34.0)\nRequirement already satisfied: importlib-metadata>=1.4 in /usr/local/lib/python3.11/dist-packages (from watermark) (8.6.1)\nRequirement already satisfied: setuptools in /usr/local/lib/python3.11/dist-packages (from watermark) (75.1.0)\nRequirement already satisfied: zipp>=3.20 in /usr/local/lib/python3.11/dist-packages (from importlib-metadata>=1.4->watermark) (3.21.0)\nRequirement already satisfied: jedi>=0.16 in /usr/local/lib/python3.11/dist-packages (from ipython>=6.0->watermark) (0.19.2)\nRequirement already satisfied: decorator in /usr/local/lib/python3.11/dist-packages (from ipython>=6.0->watermark) (4.4.2)\nRequirement already satisfied: pickleshare in /usr/local/lib/python3.11/dist-packages (from ipython>=6.0->watermark) (0.7.5)\nRequirement already satisfied: traitlets>=4.2 in /usr/local/lib/python3.11/dist-packages (from ipython>=6.0->watermark) (5.7.1)\nRequirement already satisfied: prompt-toolkit!=3.0.0,!=3.0.1,<3.1.0,>=2.0.0 in /usr/local/lib/python3.11/dist-packages (from ipython>=6.0->watermark) (3.0.50)\nRequirement already satisfied: pygments in /usr/local/lib/python3.11/dist-packages (from ipython>=6.0->watermark) (2.19.1)\nRequirement already satisfied: backcall in /usr/local/lib/python3.11/dist-packages (from ipython>=6.0->watermark) (0.2.0)\nRequirement already satisfied: matplotlib-inline in /usr/local/lib/python3.11/dist-packages (from ipython>=6.0->watermark) (0.1.7)\nRequirement already satisfied: pexpect>4.3 in /usr/local/lib/python3.11/dist-packages (from ipython>=6.0->watermark) (4.9.0)\nRequirement already satisfied: parso<0.9.0,>=0.8.4 in /usr/local/lib/python3.11/dist-packages (from jedi>=0.16->ipython>=6.0->watermark) (0.8.4)\nRequirement already satisfied: ptyprocess>=0.5 in /usr/local/lib/python3.11/dist-packages (from pexpect>4.3->ipython>=6.0->watermark) (0.7.0)\nRequirement already satisfied: wcwidth in /usr/local/lib/python3.11/dist-packages (from prompt-toolkit!=3.0.0,!=3.0.1,<3.1.0,>=2.0.0->ipython>=6.0->watermark) (0.2.13)\nThe watermark extension is already loaded. To reload it, use:\n  %reload_ext watermark\nAuthor: yunchao zhao\n\nPython implementation: CPython\nPython version       : 3.11.11\nIPython version      : 7.34.0\n\ntorch: 2.5.1+cu124\n\n",
          "output_type": "stream"
        }
      ],
      "execution_count": null
    },
    {
      "cell_type": "code",
      "source": [
        "# 导入需用的包\n",
        "import numpy as np\n",
        "import torch\n",
        "import matplotlib.pyplot as plt\n",
        "%matplotlib inline"
      ],
      "metadata": {
        "trusted": true,
        "execution": {
          "iopub.status.busy": "2025-05-12T10:53:21.970042Z",
          "iopub.execute_input": "2025-05-12T10:53:21.970356Z",
          "iopub.status.idle": "2025-05-12T10:53:21.976382Z",
          "shell.execute_reply.started": "2025-05-12T10:53:21.970332Z",
          "shell.execute_reply": "2025-05-12T10:53:21.975292Z"
        },
        "id": "1ej2_gb2hr5I"
      },
      "outputs": [],
      "execution_count": null
    },
    {
      "cell_type": "code",
      "source": [
        "# 准备数据集\n",
        "data = np.genfromtxt('/kaggle/input/ganzhiji/perceptron_toydata.txt', delimiter='\\t')\n",
        "X, y = data[:, :2], data[:, 2]\n",
        "y = y.astype(np.int32)\n",
        "\n",
        "# 打印数据大小\n",
        "print('class label counts:', np.bincount(y))\n",
        "print('X.shape:', X.shape)\n",
        "print('y.shape:', y.shape)"
      ],
      "metadata": {
        "trusted": true,
        "execution": {
          "iopub.status.busy": "2025-05-12T11:05:49.172149Z",
          "iopub.execute_input": "2025-05-12T11:05:49.172458Z",
          "iopub.status.idle": "2025-05-12T11:05:49.181577Z",
          "shell.execute_reply.started": "2025-05-12T11:05:49.172425Z",
          "shell.execute_reply": "2025-05-12T11:05:49.180569Z"
        },
        "id": "AFTdGrlQhr5I",
        "outputId": "740e1a3e-0512-45a8-a817-7f3f3bbe7318"
      },
      "outputs": [
        {
          "name": "stdout",
          "text": "class label counts: [50 50]\nX.shape: (100, 2)\ny.shape: (100,)\n",
          "output_type": "stream"
        }
      ],
      "execution_count": null
    },
    {
      "cell_type": "code",
      "source": [
        "# 分为训练集、测试集, 并标准化\n",
        "shuffle_idx = np.arange(y.shape[0])\n",
        "shuffle_rng = np.random.RandomState(123)\n",
        "shuffle_rng.shuffle(shuffle_idx)\n",
        "X, y = X[shuffle_idx], y[shuffle_idx]\n",
        "\n",
        "X_train, X_test = X[shuffle_idx[:70]], X[shuffle_idx[70:]]\n",
        "y_train, y_test = y[shuffle_idx[:70]], y[shuffle_idx[70:]]\n",
        "\n",
        "mu, sigma = X_train.mean(axis=0), X_train.std(axis=0)\n",
        "epsilon = 1e-8\n",
        "X_train = (X_train - mu) / (sigma + epsilon)\n",
        "X_test = (X_test - mu) / (sigma + epsilon)"
      ],
      "metadata": {
        "trusted": true,
        "execution": {
          "iopub.status.busy": "2025-05-12T11:19:46.511807Z",
          "iopub.execute_input": "2025-05-12T11:19:46.512175Z",
          "iopub.status.idle": "2025-05-12T11:19:46.52114Z",
          "shell.execute_reply.started": "2025-05-12T11:19:46.512151Z",
          "shell.execute_reply": "2025-05-12T11:19:46.52009Z"
        },
        "id": "GsXLlkgzhr5J"
      },
      "outputs": [],
      "execution_count": null
    },
    {
      "cell_type": "code",
      "source": [
        "plt.scatter(X_train[y_train==0, 0], X_train[y_train==0, 1], label='class 0', marker='o')\n",
        "plt.scatter(X_train[y_train==1, 0], X_train[y_train==1, 1], label='class 1', marker='s')\n",
        "plt.xlabel('feature 1')\n",
        "plt.ylabel('feature 2')\n",
        "plt.legend(loc='upper left')\n",
        "plt.show()"
      ],
      "metadata": {
        "trusted": true,
        "execution": {
          "iopub.status.busy": "2025-05-12T11:26:22.21223Z",
          "iopub.execute_input": "2025-05-12T11:26:22.212529Z",
          "iopub.status.idle": "2025-05-12T11:26:22.397473Z",
          "shell.execute_reply.started": "2025-05-12T11:26:22.212494Z",
          "shell.execute_reply": "2025-05-12T11:26:22.396444Z"
        },
        "id": "TXXC4dPWhr5J",
        "outputId": "890a9780-ec81-477a-a33b-ef05b39a1d61"
      },
      "outputs": [
        {
          "output_type": "display_data",
          "data": {
            "text/plain": "<Figure size 640x480 with 1 Axes>",
            "image/png": "[encoded data removed]"
          },
          "metadata": {}
        }
      ],
      "execution_count": null
    },
    {
      "cell_type": "code",
      "source": [
        "device = torch.device('cuda' if torch.cuda.is_available() else 'cpu')\n",
        "\n",
        "def custom_where(cond, x_1, x_2):\n",
        "    return cond * x_1 + (1 - cond) * x_2\n",
        "\n",
        "class Perceptron():\n",
        "    def __init__(self, num_features):\n",
        "        self.num_features = num_features\n",
        "        self.weights = torch.zeros(num_features, 1, dtype=torch.float32, device=device)\n",
        "        self.bias = torch.zeros(1, dtype=torch.float32, device=device)\n",
        "\n",
        "    def forward(self, x):\n",
        "        linear = torch.add(torch.mm(x, self.weights), self.bias)\n",
        "        predictions = custom_where((linear > 0.).float(), 1, 0)\n",
        "        return predictions\n",
        "\n",
        "    def backward(self, x, y):\n",
        "        predictions = self.forward(x)\n",
        "        errors = y - predictions\n",
        "        return errors\n",
        "\n",
        "    def train(self, x, y, epochs):\n",
        "        for e in range(epochs):\n",
        "            for i in range(y.size()[0]):\n",
        "                errors = self.backward(x[i].view(1, self.num_features), y[i]).view(-1)\n",
        "                self.weights += (errors * x[i]).view(self.num_features, 1)\n",
        "                self.bias += errors\n",
        "\n",
        "    def evaluate(self, x, y):\n",
        "        predictions = self.forward(x).view(-1)\n",
        "        accuracy = torch.sum(predictions == y).float() / y.size()[0]\n",
        "        return accuracy"
      ],
      "metadata": {
        "trusted": true,
        "execution": {
          "iopub.status.busy": "2025-05-12T12:06:26.932211Z",
          "iopub.execute_input": "2025-05-12T12:06:26.932552Z",
          "iopub.status.idle": "2025-05-12T12:06:26.941977Z",
          "shell.execute_reply.started": "2025-05-12T12:06:26.9325Z",
          "shell.execute_reply": "2025-05-12T12:06:26.940902Z"
        },
        "id": "YO92SOZ_hr5K"
      },
      "outputs": [],
      "execution_count": null
    },
    {
      "cell_type": "code",
      "source": [
        "ppn = Perceptron(num_features=2)\n",
        "X_train_tensor = torch.tensor(X_train, dtype=torch.float32, device=device)\n",
        "y_train_tensor = torch.tensor(y_train, dtype=torch.float32, device=device)\n",
        "\n",
        "ppn.train(X_train_tensor, y_train_tensor, epochs=5)\n",
        "\n",
        "print('model parameters:')\n",
        "print(f'weights: {ppn.weights}')\n",
        "print(f'bias: {ppn.bias}')"
      ],
      "metadata": {
        "trusted": true,
        "execution": {
          "iopub.status.busy": "2025-05-12T12:06:31.0073Z",
          "iopub.execute_input": "2025-05-12T12:06:31.007666Z",
          "iopub.status.idle": "2025-05-12T12:06:31.106335Z",
          "shell.execute_reply.started": "2025-05-12T12:06:31.007642Z",
          "shell.execute_reply": "2025-05-12T12:06:31.105278Z"
        },
        "id": "Sb8lFUPwhr5K",
        "outputId": "5a85ad86-76e1-43f8-e513-e7fdc14a8de6"
      },
      "outputs": [
        {
          "name": "stdout",
          "text": "model parameters:\nweights: tensor([[1.2734],\n        [1.3464]])\nbias: tensor([-1.])\n",
          "output_type": "stream"
        }
      ],
      "execution_count": null
    },
    {
      "cell_type": "code",
      "source": [
        "X_test_tensor = torch.tensor(X_test, dtype=torch.float32, device=device)\n",
        "y_test_tensor = torch.tensor(y_test, dtype=torch.float32, device=device)\n",
        "\n",
        "acc = ppn.evaluate(X_test_tensor, y_test_tensor)\n",
        "print(f'test set accuracy: {acc * 100: .2f}%')"
      ],
      "metadata": {
        "trusted": true,
        "execution": {
          "iopub.status.busy": "2025-05-12T12:09:25.071067Z",
          "iopub.execute_input": "2025-05-12T12:09:25.07136Z",
          "iopub.status.idle": "2025-05-12T12:09:25.078843Z",
          "shell.execute_reply.started": "2025-05-12T12:09:25.071339Z",
          "shell.execute_reply": "2025-05-12T12:09:25.077899Z"
        },
        "id": "Cy4LOmL-hr5L",
        "outputId": "0a448ad7-41af-4a66-baaf-4d0270fd37ca"
      },
      "outputs": [
        {
          "name": "stdout",
          "text": "test set accuracy:  93.33%\n",
          "output_type": "stream"
        }
      ],
      "execution_count": null
    },
    {
      "cell_type": "code",
      "source": [
        "w, b = ppn.weights, ppn.bias\n",
        "\n",
        "x_min = -2\n",
        "y_min = ((-w[0] * x_min) - b[0]) / w[1]\n",
        "\n",
        "x_max = 2\n",
        "y_max = ((-w[0] * x_max) - b[0]) / w[1]\n",
        "\n",
        "fig, ax = plt.subplots(1, 2, sharex=True, figsize=(7, 3))\n",
        "\n",
        "ax[0].plot([x_min, x_max], [y_min, y_max])\n",
        "ax[1].plot([x_min, x_max], [y_min, y_max])\n",
        "\n",
        "ax[0].scatter(X_train[y_train==0, 0], X_train[y_train==0, 1], label='class 0', marker='o')\n",
        "ax[0].scatter(X_train[y_train==1, 0], X_train[y_train==1, 1], label='class 1', marker='s')\n",
        "\n",
        "ax[1].scatter(X_test[y_test==0, 0], X_test[y_test==0, 1], label='class 0', marker='o')\n",
        "ax[1].scatter(X_test[y_test==1, 0], X_test[y_test==1, 1], label='class 1', marker='s')\n",
        "\n",
        "ax[1].legend(loc='upper left')\n",
        "plt.show()"
      ],
      "metadata": {
        "trusted": true,
        "execution": {
          "iopub.status.busy": "2025-05-12T12:26:37.047469Z",
          "iopub.execute_input": "2025-05-12T12:26:37.047925Z",
          "iopub.status.idle": "2025-05-12T12:26:37.329361Z",
          "shell.execute_reply.started": "2025-05-12T12:26:37.047898Z",
          "shell.execute_reply": "2025-05-12T12:26:37.328352Z"
        },
        "id": "4p50vwAhhr5L",
        "outputId": "e2c66da0-8c5d-4fe2-86ef-6e88755c3920"
      },
      "outputs": [
        {
          "output_type": "display_data",
          "data": {
            "text/plain": "<Figure size 700x300 with 2 Axes>",
            "image/png": "[encoded data removed]"
          },
          "metadata": {}
        }
      ],
      "execution_count": null
    },
    {
      "cell_type": "code",
      "source": [
        "%watermark -iv"
      ],
      "metadata": {
        "trusted": true,
        "id": "Eimh9BZehr5L"
      },
      "outputs": [],
      "execution_count": null
    }
  ]
}