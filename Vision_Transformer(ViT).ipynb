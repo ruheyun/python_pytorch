{
  "metadata": {
    "kernelspec": {
      "language": "python",
      "display_name": "Python 3",
      "name": "python3"
    },
    "language_info": {
      "name": "python",
      "version": "3.11.11",
      "mimetype": "text/x-python",
      "codemirror_mode": {
        "name": "ipython",
        "version": 3
      },
      "pygments_lexer": "ipython3",
      "nbconvert_exporter": "python",
      "file_extension": ".py"
    },
    "kaggle": {
      "accelerator": "gpu",
      "dataSources": [],
      "dockerImageVersionId": 31011,
      "isInternetEnabled": true,
      "language": "python",
      "sourceType": "notebook",
      "isGpuEnabled": true
    },
    "colab": {
      "name": "Vision Transformer(ViT)",
      "provenance": [],
      "include_colab_link": true
    }
  },
  "nbformat_minor": 0,
  "nbformat": 4,
  "cells": [
    {
      "cell_type": "markdown",
      "metadata": {
        "id": "view-in-github",
        "colab_type": "text"
      },
      "source": [
        "<a href=\"https://colab.research.google.com/github/ruheyun/python_pytorch/blob/main/Vision_Transformer(ViT).ipynb\" target=\"_parent\"><img src=\"https://colab.research.google.com/assets/colab-badge.svg\" alt=\"Open In Colab\"/></a>"
      ]
    },
    {
      "cell_type": "code",
      "source": [
        "# 导入库\n",
        "import torch\n",
        "import torch.nn.functional as F\n",
        "import matplotlib.pyplot as plt\n",
        "import torchvision\n",
        "import torchvision.transforms as transforms\n",
        "from torch import nn\n",
        "from torch import Tensor\n",
        "from PIL import Image\n",
        "# from torchvision.transforms import Compose, Resize, ToTensor\n",
        "from einops import rearrange, reduce, repeat\n",
        "from einops.layers.torch import Rearrange, Reduce\n",
        "%matplotlib inline"
      ],
      "metadata": {
        "trusted": true,
        "execution": {
          "iopub.status.busy": "2025-04-19T13:05:51.48311Z",
          "iopub.execute_input": "2025-04-19T13:05:51.483727Z",
          "iopub.status.idle": "2025-04-19T13:05:51.490001Z",
          "shell.execute_reply.started": "2025-04-19T13:05:51.483705Z",
          "shell.execute_reply": "2025-04-19T13:05:51.48923Z"
        },
        "id": "Cg9Wr1QCR27P"
      },
      "outputs": [],
      "execution_count": null
    },
    {
      "cell_type": "code",
      "source": [
        "# 对训练数据使用数据增强方法 以便提升模型的泛化能力\n",
        "train_transform= transforms.Compose([\n",
        "    # transforms.RandomHorizontalFlip(),\n",
        "    transforms.RandomResizedCrop((32, 32), scale=(0.8, 1.0), ratio=(0.9, 1.1)),\n",
        "    transforms.ToTensor(),\n",
        "    transforms.Normalize([0.4913, 0.4821, 0.4465], [0.2470, 0.2435, 0.2616])\n",
        "])\n",
        "test_transform = transforms.Compose([\n",
        "    transforms.ToTensor(),\n",
        "    transforms.Normalize([0.4913, 0.4821, 0.4465], [0.2470, 0.2435, 0.2616])\n",
        "])"
      ],
      "metadata": {
        "trusted": true,
        "execution": {
          "iopub.status.busy": "2025-04-19T13:05:54.436191Z",
          "iopub.execute_input": "2025-04-19T13:05:54.436921Z",
          "iopub.status.idle": "2025-04-19T13:05:54.441754Z",
          "shell.execute_reply.started": "2025-04-19T13:05:54.436898Z",
          "shell.execute_reply": "2025-04-19T13:05:54.441032Z"
        },
        "id": "ea7Y0rleR27d"
      },
      "outputs": [],
      "execution_count": null
    },
    {
      "cell_type": "code",
      "source": [
        "# 导入数据\n",
        "train_set = torchvision.datasets.CIFAR10(root='/kaggle/working/data', train=True, download=True, transform=train_transform)\n",
        "train_loader = torch.utils.data.DataLoader(train_set, batch_size=128, shuffle=True, drop_last=True, pin_memory=True, num_workers=4)\n",
        "test_set = torchvision.datasets.CIFAR10(root='/kaggle/working/data', train=False, download= False, transform=test_transform)\n",
        "test_loader = torch.utils.data.DataLoader(test_set, batch_size=128, shuffle=False, drop_last=False, num_workers=4)\n",
        "\n",
        "classes = ('plane', 'car', 'bird', 'cat', 'deer', 'dog', 'frog', 'horse', 'ship', 'truck')"
      ],
      "metadata": {
        "trusted": true,
        "execution": {
          "iopub.status.busy": "2025-04-19T13:05:58.001415Z",
          "iopub.execute_input": "2025-04-19T13:05:58.001988Z",
          "iopub.status.idle": "2025-04-19T13:05:59.263079Z",
          "shell.execute_reply.started": "2025-04-19T13:05:58.001963Z",
          "shell.execute_reply": "2025-04-19T13:05:59.262335Z"
        },
        "id": "q3PZE7q9R27g",
        "outputId": "c37ea4ed-3149-4073-f3a7-d44f9da0a2b1"
      },
      "outputs": [
        {
          "name": "stdout",
          "text": "Files already downloaded and verified\n",
          "output_type": "stream"
        }
      ],
      "execution_count": null
    },
    {
      "cell_type": "code",
      "source": [
        "# 可视化数据\n",
        "num_images = 4\n",
        "cifar_images = torch.stack([train_set[idx][0] for idx in range(num_images)], dim=0)\n",
        "img_grid = torchvision.utils.make_grid(cifar_images, nrow=4, normalize=True, pad_value=0.9)\n",
        "img_grid = img_grid.permute(1, 2, 0)\n",
        "plt.figure(figsize=(8, 8))\n",
        "plt.title('image example of the cifar10 dataset')\n",
        "plt.imshow(img_grid)\n",
        "plt.axis('off')\n",
        "plt.show()\n",
        "plt.close()"
      ],
      "metadata": {
        "trusted": true,
        "execution": {
          "iopub.status.busy": "2025-04-19T13:06:01.491323Z",
          "iopub.execute_input": "2025-04-19T13:06:01.49215Z",
          "iopub.status.idle": "2025-04-19T13:06:01.567345Z",
          "shell.execute_reply.started": "2025-04-19T13:06:01.492124Z",
          "shell.execute_reply": "2025-04-19T13:06:01.566632Z"
        },
        "id": "BKPYZia8R27k",
        "outputId": "56263b3d-4f43-4a00-944a-40c1766b6af6"
      },
      "outputs": [
        {
          "output_type": "display_data",
          "data": {
            "text/plain": "<Figure size 800x800 with 1 Axes>",
            "image/png": "[encoded data removed]"
          },
          "metadata": {}
        }
      ],
      "execution_count": null
    },
    {
      "cell_type": "code",
      "source": [
        "# 将图片切成多个分片并展平 、添加分类标记、位置嵌入\n",
        "class PatchEmbedding(nn.Module):\n",
        "    def __init__(self, in_channels=3, patch_size=4, emb_size=256, img_size=32):\n",
        "        super().__init__()\n",
        "        self.projection = nn.Sequential(\n",
        "            # Rearrange('b c (h s1) (w s2) -> b (h w) (s1 s2 c)', s1=patch_size, s2=patch_size),\n",
        "            # nn.Linear(patch_size * patch_size * in_channels, emb_size)\n",
        "            nn.Conv2d(in_channels, emb_size, kernel_size=patch_size, stride=patch_size),\n",
        "            Rearrange('b e h w -> b (h w) e')\n",
        "        )\n",
        "\n",
        "        self.cls_token = nn.Parameter(torch.randn(1, 1, emb_size))\n",
        "        self.position = nn.Parameter(torch.randn((img_size // patch_size) ** 2 + 1, emb_size))\n",
        "\n",
        "    def forward(self, x):\n",
        "        b, _, _, _ = x.shape\n",
        "        x = self.projection(x)\n",
        "        cls_tokens = repeat(self.cls_token, '() n e -> b n e', b=b)\n",
        "        x = torch.cat([cls_tokens, x], dim=1)\n",
        "        x += self.position\n",
        "        return x"
      ],
      "metadata": {
        "trusted": true,
        "execution": {
          "iopub.status.busy": "2025-04-19T13:06:06.675504Z",
          "iopub.execute_input": "2025-04-19T13:06:06.67611Z",
          "iopub.status.idle": "2025-04-19T13:06:06.681583Z",
          "shell.execute_reply.started": "2025-04-19T13:06:06.676085Z",
          "shell.execute_reply": "2025-04-19T13:06:06.680836Z"
        },
        "id": "eGINR5CdR27s"
      },
      "outputs": [],
      "execution_count": null
    },
    {
      "cell_type": "code",
      "source": [
        "# 多头注意力\n",
        "class MultiHeadAttention(nn.Module):\n",
        "    def __init__(self, emb_size=256, num_heads=8, dropout=0.):\n",
        "        super().__init__()\n",
        "        self.num_heads = num_heads\n",
        "        self.emb_size = emb_size\n",
        "        self.qkv = nn.Linear(emb_size, emb_size * 3)\n",
        "        self.att_drop = nn.Dropout(dropout)\n",
        "        self.projection = nn.Linear(emb_size, emb_size)\n",
        "\n",
        "    def forward(self, x, mask=None):\n",
        "        qkv = rearrange(self.qkv(x), 'b n (h d qkv) -> (qkv) b h n d', h=self.num_heads, qkv=3)\n",
        "        q, k, v = qkv[0], qkv[1], qkv[2]\n",
        "        energy = torch.einsum('bhqd, bhkd -> bhqk', q, k)\n",
        "        if mask is not None:\n",
        "            fill_value = torch.finfo(torch.float32).min\n",
        "            energy.mask_fill(~mask, fill_value)\n",
        "        scaling = self.emb_size ** (1 / 2)\n",
        "        att = F.softmax(energy, dim=-1) / scaling\n",
        "        att = self.att_drop(att)\n",
        "\n",
        "        out = torch.einsum('bhal, bhlv -> bhav', att, v)\n",
        "        out = rearrange(out, 'b h n d -> b n (h d)')\n",
        "        out = self.projection(out)\n",
        "        return out"
      ],
      "metadata": {
        "trusted": true,
        "execution": {
          "iopub.status.busy": "2025-04-19T13:06:10.086151Z",
          "iopub.execute_input": "2025-04-19T13:06:10.086623Z",
          "iopub.status.idle": "2025-04-19T13:06:10.092782Z",
          "shell.execute_reply.started": "2025-04-19T13:06:10.086601Z",
          "shell.execute_reply": "2025-04-19T13:06:10.091953Z"
        },
        "id": "YYMZi7F2R27t"
      },
      "outputs": [],
      "execution_count": null
    },
    {
      "cell_type": "code",
      "source": [
        "# 残差连接\n",
        "class ResidualAdd(nn.Module):\n",
        "    def __init__(self, fn):\n",
        "        super().__init__()\n",
        "        self.fn = fn\n",
        "\n",
        "    def forward(self, x, **kwargs):\n",
        "        res = x\n",
        "        x = self.fn(x, **kwargs)\n",
        "        x += res\n",
        "        return x"
      ],
      "metadata": {
        "trusted": true,
        "execution": {
          "iopub.status.busy": "2025-04-19T13:06:13.688892Z",
          "iopub.execute_input": "2025-04-19T13:06:13.689156Z",
          "iopub.status.idle": "2025-04-19T13:06:13.693278Z",
          "shell.execute_reply.started": "2025-04-19T13:06:13.689138Z",
          "shell.execute_reply": "2025-04-19T13:06:13.692578Z"
        },
        "id": "0r3VOHKIR27x"
      },
      "outputs": [],
      "execution_count": null
    },
    {
      "cell_type": "code",
      "source": [
        "# 前馈神经网络\n",
        "class FeedForwardBlock(nn.Sequential):\n",
        "    def __init__(self, emb_size=256, expansion=4, drop_p=0.):\n",
        "        super().__init__(\n",
        "            nn.Linear(emb_size, expansion * emb_size),\n",
        "            nn.GELU(),\n",
        "            nn.Dropout(drop_p),\n",
        "            nn.Linear(expansion * emb_size, emb_size),\n",
        "        )"
      ],
      "metadata": {
        "trusted": true,
        "execution": {
          "iopub.status.busy": "2025-04-19T13:06:16.670747Z",
          "iopub.execute_input": "2025-04-19T13:06:16.671352Z",
          "iopub.status.idle": "2025-04-19T13:06:16.675563Z",
          "shell.execute_reply.started": "2025-04-19T13:06:16.671327Z",
          "shell.execute_reply": "2025-04-19T13:06:16.674837Z"
        },
        "id": "P5xLFf5fR271"
      },
      "outputs": [],
      "execution_count": null
    },
    {
      "cell_type": "code",
      "source": [
        "# 构建编码器块\n",
        "class TransformerEncoderBlock(nn.Sequential):\n",
        "    def __init__(self, emb_size=256, drop_p=0., forward_expansion=4, forward_drop_p=0., **kwargs):\n",
        "        super().__init__(\n",
        "            ResidualAdd(nn.Sequential(\n",
        "                nn.LayerNorm(emb_size),\n",
        "                MultiHeadAttention(emb_size, **kwargs),\n",
        "                nn.Dropout(drop_p)\n",
        "            )),\n",
        "            ResidualAdd(nn.Sequential(\n",
        "                nn.LayerNorm(emb_size),\n",
        "                FeedForwardBlock(emb_size, expansion=forward_expansion, drop_p=forward_drop_p),\n",
        "                nn.Dropout(drop_p)\n",
        "            ))\n",
        "        )"
      ],
      "metadata": {
        "trusted": true,
        "execution": {
          "iopub.status.busy": "2025-04-19T13:06:19.603073Z",
          "iopub.execute_input": "2025-04-19T13:06:19.603332Z",
          "iopub.status.idle": "2025-04-19T13:06:19.608178Z",
          "shell.execute_reply.started": "2025-04-19T13:06:19.603313Z",
          "shell.execute_reply": "2025-04-19T13:06:19.607542Z"
        },
        "id": "wmTJWDy7R273"
      },
      "outputs": [],
      "execution_count": null
    },
    {
      "cell_type": "code",
      "source": [
        "# 构建整个编码器\n",
        "class TransformerEncoder(nn.Sequential):\n",
        "    def __init__(self, depth: int=12, **kwargs):\n",
        "        super().__init__(*[TransformerEncoderBlock(**kwargs) for _ in range(depth)])"
      ],
      "metadata": {
        "trusted": true,
        "execution": {
          "iopub.status.busy": "2025-04-19T13:06:23.656891Z",
          "iopub.execute_input": "2025-04-19T13:06:23.657561Z",
          "iopub.status.idle": "2025-04-19T13:06:23.661395Z",
          "shell.execute_reply.started": "2025-04-19T13:06:23.657537Z",
          "shell.execute_reply": "2025-04-19T13:06:23.660718Z"
        },
        "id": "UJdoIegXR277"
      },
      "outputs": [],
      "execution_count": null
    },
    {
      "cell_type": "code",
      "source": [
        "# 构建输出头\n",
        "class ClassificationHead(nn.Sequential):\n",
        "    def __init__(self, emb_size=256, n_classes=10):\n",
        "        super().__init__(\n",
        "            Reduce('b n e -> b e', reduction='mean'),\n",
        "            nn.LayerNorm(emb_size),\n",
        "            nn.Linear(emb_size, n_classes)\n",
        "        )"
      ],
      "metadata": {
        "trusted": true,
        "execution": {
          "iopub.status.busy": "2025-04-19T13:06:26.666617Z",
          "iopub.execute_input": "2025-04-19T13:06:26.667166Z",
          "iopub.status.idle": "2025-04-19T13:06:26.671274Z",
          "shell.execute_reply.started": "2025-04-19T13:06:26.667143Z",
          "shell.execute_reply": "2025-04-19T13:06:26.670616Z"
        },
        "id": "L8vI4m3RR278"
      },
      "outputs": [],
      "execution_count": null
    },
    {
      "cell_type": "code",
      "source": [
        "# 构建vit架构\n",
        "class ViT(nn.Sequential):\n",
        "    def __init__(self, in_channels=3, patch_size=4, emb_size=256, img_size=32, depth=12, n_classes=10, **kwargs):\n",
        "        super().__init__(\n",
        "            PatchEmbedding(in_channels, patch_size, emb_size, img_size),\n",
        "            TransformerEncoder(depth, emb_size=emb_size, **kwargs),\n",
        "            ClassificationHead(emb_size, n_classes)\n",
        "        )"
      ],
      "metadata": {
        "trusted": true,
        "execution": {
          "iopub.status.busy": "2025-04-19T13:06:29.721531Z",
          "iopub.execute_input": "2025-04-19T13:06:29.722155Z",
          "iopub.status.idle": "2025-04-19T13:06:29.726514Z",
          "shell.execute_reply.started": "2025-04-19T13:06:29.72213Z",
          "shell.execute_reply": "2025-04-19T13:06:29.725784Z"
        },
        "id": "rpXDecz9R27-"
      },
      "outputs": [],
      "execution_count": null
    },
    {
      "cell_type": "code",
      "source": [
        "# 训练模型\n",
        "device = torch.device('cuda' if torch.cuda.is_available() else 'cpu')\n",
        "vit = ViT().to(device)\n",
        "criterion = nn.CrossEntropyLoss()\n",
        "optimizer = torch.optim.AdamW(vit.parameters(), lr=1e-3)"
      ],
      "metadata": {
        "trusted": true,
        "execution": {
          "iopub.status.busy": "2025-04-19T13:06:32.62488Z",
          "iopub.execute_input": "2025-04-19T13:06:32.62516Z",
          "iopub.status.idle": "2025-04-19T13:06:32.723514Z",
          "shell.execute_reply.started": "2025-04-19T13:06:32.625141Z",
          "shell.execute_reply": "2025-04-19T13:06:32.723003Z"
        },
        "id": "tZG4phnwR28A"
      },
      "outputs": [],
      "execution_count": null
    },
    {
      "cell_type": "code",
      "source": [
        "for epoch in range(100):\n",
        "    running_loss = 0\n",
        "    running_acc = 0\n",
        "    vit.train()\n",
        "    for i, (data, label) in enumerate(train_loader):\n",
        "        data, label = data.to(device), label.to(device)\n",
        "        out = vit(data)\n",
        "        optimizer.zero_grad()\n",
        "        loss = criterion(out, label)\n",
        "        loss.backward()\n",
        "        optimizer.step()\n",
        "\n",
        "        _, pres = out.max(1)\n",
        "        acc = (pres == label).sum().item() / len(label)\n",
        "        running_acc += acc\n",
        "        running_loss += loss.item()\n",
        "\n",
        "    vit.eval()\n",
        "    test_loss = 0\n",
        "    test_acc = 0\n",
        "    with torch.no_grad():\n",
        "        for i, (data, label) in enumerate(test_loader):\n",
        "            data, label = data.to(device), label.to(device)\n",
        "            out = vit(data)\n",
        "            loss = criterion(out, label)\n",
        "            _, pres = out.max(1)\n",
        "            acc = (pres == label).sum().item() / len(label)\n",
        "            test_acc += acc\n",
        "            test_loss += loss\n",
        "    print(f'epoch: [{epoch}], train_loss: [{running_loss / len(train_loader):.3f}], train_acc: [{running_acc / len(train_loader):.3f}], test_loss: [{test_loss / len(test_loader):.3f}], test_acc: [{test_acc / len(test_loader):.3f}]')"
      ],
      "metadata": {
        "trusted": true,
        "execution": {
          "iopub.status.busy": "2025-04-19T13:06:35.787959Z",
          "iopub.execute_input": "2025-04-19T13:06:35.78824Z"
        },
        "id": "G_Ye6oMGR28B",
        "outputId": "e904a542-5da7-4c55-8272-a127f0b2ee88"
      },
      "outputs": [
        {
          "name": "stdout",
          "text": "epoch: [0], train_loss: [1.873], train_acc: [0.294], test_loss: [1.599], test_acc: [0.407]\nepoch: [1], train_loss: [1.524], train_acc: [0.438], test_loss: [1.397], test_acc: [0.488]\nepoch: [2], train_loss: [1.425], train_acc: [0.482], test_loss: [1.388], test_acc: [0.495]\nepoch: [3], train_loss: [1.439], train_acc: [0.475], test_loss: [1.501], test_acc: [0.458]\nepoch: [4], train_loss: [1.464], train_acc: [0.466], test_loss: [1.422], test_acc: [0.483]\nepoch: [5], train_loss: [1.449], train_acc: [0.474], test_loss: [1.585], test_acc: [0.420]\nepoch: [6], train_loss: [1.472], train_acc: [0.466], test_loss: [1.376], test_acc: [0.500]\nepoch: [7], train_loss: [1.422], train_acc: [0.485], test_loss: [1.384], test_acc: [0.504]\nepoch: [8], train_loss: [1.403], train_acc: [0.491], test_loss: [1.351], test_acc: [0.512]\nepoch: [9], train_loss: [1.430], train_acc: [0.482], test_loss: [1.371], test_acc: [0.501]\nepoch: [10], train_loss: [1.380], train_acc: [0.500], test_loss: [1.392], test_acc: [0.495]\nepoch: [11], train_loss: [1.364], train_acc: [0.505], test_loss: [1.348], test_acc: [0.516]\nepoch: [12], train_loss: [1.337], train_acc: [0.516], test_loss: [1.354], test_acc: [0.500]\nepoch: [13], train_loss: [1.366], train_acc: [0.508], test_loss: [1.352], test_acc: [0.502]\nepoch: [14], train_loss: [1.315], train_acc: [0.525], test_loss: [1.292], test_acc: [0.532]\nepoch: [15], train_loss: [1.281], train_acc: [0.535], test_loss: [1.270], test_acc: [0.542]\nepoch: [16], train_loss: [1.272], train_acc: [0.542], test_loss: [1.310], test_acc: [0.533]\nepoch: [17], train_loss: [1.254], train_acc: [0.548], test_loss: [1.365], test_acc: [0.507]\nepoch: [18], train_loss: [1.285], train_acc: [0.534], test_loss: [1.265], test_acc: [0.541]\nepoch: [19], train_loss: [1.295], train_acc: [0.535], test_loss: [1.291], test_acc: [0.530]\nepoch: [20], train_loss: [1.251], train_acc: [0.548], test_loss: [1.236], test_acc: [0.549]\nepoch: [21], train_loss: [1.255], train_acc: [0.549], test_loss: [1.295], test_acc: [0.532]\nepoch: [22], train_loss: [1.251], train_acc: [0.551], test_loss: [1.249], test_acc: [0.550]\nepoch: [23], train_loss: [1.256], train_acc: [0.549], test_loss: [1.249], test_acc: [0.548]\nepoch: [24], train_loss: [1.226], train_acc: [0.558], test_loss: [1.240], test_acc: [0.548]\nepoch: [25], train_loss: [1.223], train_acc: [0.558], test_loss: [1.182], test_acc: [0.573]\nepoch: [26], train_loss: [1.247], train_acc: [0.549], test_loss: [1.221], test_acc: [0.562]\nepoch: [27], train_loss: [1.231], train_acc: [0.559], test_loss: [1.248], test_acc: [0.554]\nepoch: [28], train_loss: [1.250], train_acc: [0.550], test_loss: [1.283], test_acc: [0.537]\nepoch: [29], train_loss: [1.237], train_acc: [0.554], test_loss: [1.216], test_acc: [0.561]\nepoch: [30], train_loss: [1.222], train_acc: [0.559], test_loss: [1.210], test_acc: [0.565]\nepoch: [31], train_loss: [1.202], train_acc: [0.569], test_loss: [1.344], test_acc: [0.505]\nepoch: [32], train_loss: [1.239], train_acc: [0.556], test_loss: [1.250], test_acc: [0.552]\nepoch: [33], train_loss: [1.279], train_acc: [0.539], test_loss: [1.306], test_acc: [0.531]\nepoch: [34], train_loss: [1.249], train_acc: [0.551], test_loss: [1.241], test_acc: [0.553]\n",
          "output_type": "stream"
        }
      ],
      "execution_count": null
    }
  ]
}