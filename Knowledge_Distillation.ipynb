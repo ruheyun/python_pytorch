{
  "nbformat": 4,
  "nbformat_minor": 0,
  "metadata": {
    "colab": {
      "provenance": [],
      "gpuType": "T4",
      "include_colab_link": true
    },
    "kernelspec": {
      "name": "python3",
      "display_name": "Python 3"
    },
    "language_info": {
      "name": "python"
    },
    "accelerator": "GPU"
  },
  "cells": [
    {
      "cell_type": "markdown",
      "metadata": {
        "id": "view-in-github",
        "colab_type": "text"
      },
      "source": [
        "<a href=\"https://colab.research.google.com/github/ruheyun/python_pytorch/blob/main/Knowledge_Distillation.ipynb\" target=\"_parent\"><img src=\"https://colab.research.google.com/assets/colab-badge.svg\" alt=\"Open In Colab\"/></a>"
      ]
    },
    {
      "cell_type": "code",
      "execution_count": null,
      "metadata": {
        "id": "pTNdIJ7PugX4",
        "collapsed": true
      },
      "outputs": [],
      "source": [
        "import torch\n",
        "import torch.nn as nn\n",
        "import torch.optim as optim\n",
        "import torchvision\n",
        "import torchvision.transforms as transforms\n",
        "import torch.nn.functional as F\n",
        "import time"
      ]
    },
    {
      "cell_type": "code",
      "source": [
        "# 设置超参数\n",
        "BATCH_SIZE = 128\n",
        "EPOCHS = 10\n",
        "EPOCHS_T = 25\n",
        "TEMPERATURE = 4.0  # 温度参数\n",
        "ALPHA = 0.3  # 交叉熵损失和知识蒸馏损失的权重\n",
        "LEARNING_RATE = 0.001"
      ],
      "metadata": {
        "id": "y3ggxFrtAN8R"
      },
      "execution_count": null,
      "outputs": []
    },
    {
      "cell_type": "code",
      "source": [
        "# 数据加载\n",
        "transform = transforms.Compose([\n",
        "    transforms.ToTensor(),\n",
        "    transforms.Normalize((0.5,), (0.5,))\n",
        "    # transforms.Normalize((0.4914, 0.4822, 0.4465), (0.2023, 0.1994, 0.2010))\n",
        "    ])\n",
        "train_dataset = torchvision.datasets.MNIST(root='./data', train=True, download=True, transform=transform)\n",
        "test_dataset = torchvision.datasets.MNIST(root='./data', train=False, download=True, transform=transform)\n",
        "train_loader = torch.utils.data.DataLoader(train_dataset, batch_size=BATCH_SIZE, shuffle=True)\n",
        "test_loader = torch.utils.data.DataLoader(test_dataset, batch_size=BATCH_SIZE, shuffle=False)\n",
        "\n",
        "# 运行\n",
        "device = torch.device(\"cuda\" if torch.cuda.is_available() else \"cpu\")"
      ],
      "metadata": {
        "id": "CCEZmEqfTU4g"
      },
      "execution_count": null,
      "outputs": []
    },
    {
      "cell_type": "code",
      "source": [
        "# 定义教师模型\n",
        "class TeacherModel(nn.Module):\n",
        "    def __init__(self):\n",
        "        super(TeacherModel, self).__init__()\n",
        "        self.conv1 = nn.Conv2d(1, 32, kernel_size=3, padding=1)\n",
        "        self.conv2 = nn.Conv2d(32, 64, kernel_size=3, padding=1)\n",
        "        self.fc1 = nn.Linear(64 * 7 * 7, 128)\n",
        "        self.fc2 = nn.Linear(128, 10)\n",
        "\n",
        "    def forward(self, x):\n",
        "        x = F.relu(self.conv1(x))\n",
        "        x = F.max_pool2d(x, 2)\n",
        "        x = F.relu(self.conv2(x))\n",
        "        x = F.max_pool2d(x, 2)\n",
        "        x = x.view(x.size(0), -1)\n",
        "        x = F.relu(self.fc1(x))\n",
        "        x = self.fc2(x)\n",
        "        return x\n",
        "\n",
        "# 定义学生模型\n",
        "class StudentModel(nn.Module):\n",
        "    def __init__(self):\n",
        "        super(StudentModel, self).__init__()\n",
        "        self.conv1 = nn.Conv2d(1, 2, kernel_size=3, padding=1)\n",
        "        self.conv2 = nn.Conv2d(2, 4, kernel_size=3, padding=1)\n",
        "        self.fc1 = nn.Linear(4 * 7 * 7, 8)\n",
        "        self.fc2 = nn.Linear(8, 10)\n",
        "\n",
        "    def forward(self, x):\n",
        "        x = F.relu(self.conv1(x))\n",
        "        x = F.max_pool2d(x, 2)\n",
        "        x = F.relu(self.conv2(x))\n",
        "        x = F.max_pool2d(x, 2)\n",
        "        x = x.view(x.size(0), -1)\n",
        "        x = F.relu(self.fc1(x))\n",
        "        x = self.fc2(x)\n",
        "        return x"
      ],
      "metadata": {
        "id": "IuRzzR5UTSP1"
      },
      "execution_count": null,
      "outputs": []
    },
    {
      "cell_type": "code",
      "source": [
        "# 计算蒸馏损失\n",
        "def distillation_loss(student_logits, teacher_logits, true_labels, temperature, alpha):\n",
        "    # 计算教师模型和学生模型的 softmax 预测（使用温度参数）\n",
        "    soft_targets = F.softmax(teacher_logits / temperature, dim=1)\n",
        "    soft_predictions = F.log_softmax(student_logits / temperature, dim=1)\n",
        "\n",
        "    # 计算 KL 散度损失\n",
        "    kl_loss = F.kl_div(soft_predictions, soft_targets, reduction='batchmean') * (temperature ** 2)\n",
        "\n",
        "    # 计算标准交叉熵损失\n",
        "    ce_loss = F.cross_entropy(student_logits, true_labels)\n",
        "\n",
        "    # 组合损失\n",
        "    return alpha * ce_loss + (1 - alpha) * kl_loss"
      ],
      "metadata": {
        "id": "tV7Dc6qvTN0g"
      },
      "execution_count": null,
      "outputs": []
    },
    {
      "cell_type": "code",
      "source": [
        "# 训练教师模型\n",
        "def train_teacher(teacher):\n",
        "    optimizer = optim.Adam(teacher.parameters(), lr=LEARNING_RATE)\n",
        "    criterion = nn.CrossEntropyLoss()\n",
        "\n",
        "    for epoch in range(EPOCHS_T):\n",
        "        teacher.train()\n",
        "        losses = 0\n",
        "        for images, labels in train_loader:\n",
        "            images, labels = images.to(device), labels.to(device)\n",
        "\n",
        "            optimizer.zero_grad()\n",
        "            outputs = teacher(images)\n",
        "            loss = criterion(outputs, labels)\n",
        "            loss.backward()\n",
        "            optimizer.step()\n",
        "            losses += loss.item()\n",
        "\n",
        "        print(f\"Epoch [{epoch+1}/{EPOCHS_T}], Loss: {losses / len(train_loader):.4f}\")\n",
        "\n",
        "    torch.save(teacher.state_dict(), \"teacher_model.pth\")\n",
        "    print(\"教师模型训练完成并已保存！\")\n",
        "    return teacher"
      ],
      "metadata": {
        "id": "z0ikAXsETAmx"
      },
      "execution_count": null,
      "outputs": []
    },
    {
      "cell_type": "code",
      "source": [
        "# 训练学生模型\n",
        "def train_student(student, teacher=None):\n",
        "    optimizer = optim.Adam(student.parameters(), lr=LEARNING_RATE)\n",
        "    if teacher:\n",
        "      teacher.eval()\n",
        "    criterion = nn.CrossEntropyLoss()\n",
        "\n",
        "    for epoch in range(EPOCHS):\n",
        "        student.train()\n",
        "        losses = 0\n",
        "        for images, labels in train_loader:\n",
        "            images, labels = images.to(device), labels.to(device)\n",
        "\n",
        "            optimizer.zero_grad()\n",
        "            outputs = student(images)\n",
        "            if teacher:\n",
        "              teacher_outputs = teacher(images).detach()  # 关闭教师模型的梯度计算\n",
        "              loss = distillation_loss(outputs, teacher_outputs, labels, TEMPERATURE, ALPHA)\n",
        "            else:\n",
        "              loss = criterion(outputs, labels)\n",
        "            loss.backward()\n",
        "            optimizer.step()\n",
        "            losses += loss.item()\n",
        "\n",
        "        print(f\"Epoch [{epoch+1}/{EPOCHS}], Loss: {losses / len(train_loader):.4f}\")\n",
        "\n",
        "    torch.save(student.state_dict(), \"student_model_Distillation.pth\" if teacher else 'student_model.pth')\n",
        "    print(\"学生模型训练完成并已保存！\")\n",
        "    return student"
      ],
      "metadata": {
        "id": "5Tiw9pc8VZXQ"
      },
      "execution_count": null,
      "outputs": []
    },
    {
      "cell_type": "code",
      "source": [
        "# 评估模型\n",
        "def evaluate_model(model):\n",
        "    model.eval()\n",
        "    correct = 0\n",
        "    total = 0\n",
        "    with torch.no_grad():\n",
        "        for images, labels in test_loader:\n",
        "            images, labels = images.to(device), labels.to(device)\n",
        "            outputs = model(images)\n",
        "            _, predicted = torch.max(outputs, 1)\n",
        "            total += labels.size(0)\n",
        "            correct += (predicted == labels).sum().item()\n",
        "\n",
        "    print(f'模型准确率: {100 * correct / total:.2f}%')"
      ],
      "metadata": {
        "id": "Yh1TdTgUTCAo"
      },
      "execution_count": null,
      "outputs": []
    },
    {
      "cell_type": "code",
      "source": [
        "# 训练教师模型\n",
        "print('训练教师模型')\n",
        "start_time = time.time()\n",
        "teacher = TeacherModel().to(device)\n",
        "teacher_model = train_teacher(teacher)\n",
        "end_time = time.time()\n",
        "total_time = end_time - start_time\n",
        "print(f\"教师模型训练耗时: {total_time:.2f} 秒 ({total_time / 60:.2f} 分钟)\")\n",
        "\n",
        "# 评估教师模型\n",
        "print(\"\\n教师模型测试集准确率：\")\n",
        "evaluate_model(teacher_model)"
      ],
      "metadata": {
        "id": "BzFJIK7rTCH-",
        "colab": {
          "base_uri": "https://localhost:8080/"
        },
        "outputId": "0b265894-8729-4f35-a72c-d483d8dadec3"
      },
      "execution_count": null,
      "outputs": [
        {
          "output_type": "stream",
          "name": "stdout",
          "text": [
            "训练教师模型\n",
            "Epoch [1/25], Loss: 0.2101\n",
            "Epoch [2/25], Loss: 0.0545\n",
            "Epoch [3/25], Loss: 0.0382\n",
            "Epoch [4/25], Loss: 0.0290\n",
            "Epoch [5/25], Loss: 0.0218\n",
            "Epoch [6/25], Loss: 0.0176\n",
            "Epoch [7/25], Loss: 0.0143\n",
            "Epoch [8/25], Loss: 0.0127\n",
            "Epoch [9/25], Loss: 0.0107\n",
            "Epoch [10/25], Loss: 0.0088\n",
            "Epoch [11/25], Loss: 0.0065\n",
            "Epoch [12/25], Loss: 0.0085\n",
            "Epoch [13/25], Loss: 0.0059\n",
            "Epoch [14/25], Loss: 0.0058\n",
            "Epoch [15/25], Loss: 0.0056\n",
            "Epoch [16/25], Loss: 0.0048\n",
            "Epoch [17/25], Loss: 0.0038\n",
            "Epoch [18/25], Loss: 0.0054\n",
            "Epoch [19/25], Loss: 0.0024\n",
            "Epoch [20/25], Loss: 0.0049\n",
            "Epoch [21/25], Loss: 0.0035\n",
            "Epoch [22/25], Loss: 0.0019\n",
            "Epoch [23/25], Loss: 0.0040\n",
            "Epoch [24/25], Loss: 0.0025\n",
            "Epoch [25/25], Loss: 0.0028\n",
            "教师模型训练完成并已保存！\n",
            "教师模型训练耗时: 318.47 秒 (5.31 分钟)\n",
            "\n",
            "教师模型测试集准确率：\n",
            "模型准确率: 99.16%\n"
          ]
        }
      ]
    },
    {
      "cell_type": "code",
      "source": [
        "# 训练学生模型\n",
        "print('训练学生模型')\n",
        "start_time = time.time()\n",
        "student = StudentModel().to(device)\n",
        "student_model = train_student(student)\n",
        "end_time = time.time()\n",
        "total_time = end_time - start_time\n",
        "print(f\"学生模型训练耗时: {total_time:.2f} 秒 ({total_time / 60:.2f} 分钟)\")\n",
        "\n",
        "print(\"\\n学生模型测试集准确率：\")\n",
        "evaluate_model(student_model)"
      ],
      "metadata": {
        "colab": {
          "base_uri": "https://localhost:8080/"
        },
        "id": "aHBHRI_ZZa07",
        "outputId": "5c54ba86-331d-49f2-c739-8bf4072f7ae9"
      },
      "execution_count": null,
      "outputs": [
        {
          "output_type": "stream",
          "name": "stdout",
          "text": [
            "训练学生模型\n",
            "Epoch [1/10], Loss: 1.1992\n",
            "Epoch [2/10], Loss: 0.4469\n",
            "Epoch [3/10], Loss: 0.3685\n",
            "Epoch [4/10], Loss: 0.3226\n",
            "Epoch [5/10], Loss: 0.2928\n",
            "Epoch [6/10], Loss: 0.2698\n",
            "Epoch [7/10], Loss: 0.2501\n",
            "Epoch [8/10], Loss: 0.2340\n",
            "Epoch [9/10], Loss: 0.2206\n",
            "Epoch [10/10], Loss: 0.2123\n",
            "学生模型训练完成并已保存！\n",
            "学生模型训练耗时: 118.36 秒 (1.97 分钟)\n",
            "\n",
            "学生模型测试集准确率：\n",
            "模型准确率: 93.97%\n"
          ]
        }
      ]
    },
    {
      "cell_type": "code",
      "source": [
        "# 训练学生模型（使用知识蒸馏）\n",
        "print('训练学生模型（使用知识蒸馏）')\n",
        "start_time = time.time()\n",
        "student = StudentModel().to(device)\n",
        "student_model_distillation = train_student(student, teacher=teacher_model)\n",
        "end_time = time.time()\n",
        "total_time = end_time - start_time\n",
        "print(f\"学生模型(蒸馏)训练耗时: {total_time:.2f} 秒 ({total_time / 60:.2f} 分钟)\")\n",
        "\n",
        "print(\"\\n学生模型测试集准确率：\")\n",
        "evaluate_model(student_model_distillation)"
      ],
      "metadata": {
        "colab": {
          "base_uri": "https://localhost:8080/"
        },
        "id": "xzkeeKEMZdnx",
        "outputId": "2f5d7460-eb94-4c18-e865-bb0a80b02b35"
      },
      "execution_count": null,
      "outputs": [
        {
          "output_type": "stream",
          "name": "stdout",
          "text": [
            "训练学生模型（使用知识蒸馏）\n",
            "Epoch [1/10], Loss: 14.0457\n",
            "Epoch [2/10], Loss: 4.7734\n",
            "Epoch [3/10], Loss: 3.4057\n",
            "Epoch [4/10], Loss: 2.7472\n",
            "Epoch [5/10], Loss: 2.3705\n",
            "Epoch [6/10], Loss: 2.1313\n",
            "Epoch [7/10], Loss: 1.9584\n",
            "Epoch [8/10], Loss: 1.8319\n",
            "Epoch [9/10], Loss: 1.7312\n",
            "Epoch [10/10], Loss: 1.6516\n",
            "学生模型训练完成并已保存！\n",
            "学生模型(蒸馏)训练耗时: 122.30 秒 (2.04 分钟)\n",
            "\n",
            "学生模型测试集准确率：\n",
            "模型准确率: 96.00%\n"
          ]
        }
      ]
    }
  ]
}